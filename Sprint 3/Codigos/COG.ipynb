{
  "nbformat": 4,
  "nbformat_minor": 0,
  "metadata": {
    "colab": {
      "provenance": [],
      "authorship_tag": "ABX9TyN3CQXMWGNBZZ9Z2Wi+OoRU",
      "include_colab_link": true
    },
    "kernelspec": {
      "name": "python3",
      "display_name": "Python 3"
    },
    "language_info": {
      "name": "python"
    }
  },
  "cells": [
    {
      "cell_type": "markdown",
      "metadata": {
        "id": "view-in-github",
        "colab_type": "text"
      },
      "source": [
        "<a href=\"https://colab.research.google.com/github/Brudeoli17/Projeto-LogInova-Consultoria/blob/main/COG.ipynb\" target=\"_parent\"><img src=\"https://colab.research.google.com/assets/colab-badge.svg\" alt=\"Open In Colab\"/></a>"
      ]
    },
    {
      "cell_type": "code",
      "execution_count": null,
      "metadata": {
        "id": "Y1_NgS96vQi0"
      },
      "outputs": [],
      "source": [
        "import pandas as pd"
      ]
    },
    {
      "cell_type": "code",
      "source": [
        "from google.colab import drive\n",
        "drive.mount('/content/drive')"
      ],
      "metadata": {
        "colab": {
          "base_uri": "https://localhost:8080/"
        },
        "id": "AFBIr4KyvsNw",
        "outputId": "98ebde8a-22b0-4257-f4d8-a67e9974f449"
      },
      "execution_count": null,
      "outputs": [
        {
          "output_type": "stream",
          "name": "stdout",
          "text": [
            "Drive already mounted at /content/drive; to attempt to forcibly remount, call drive.mount(\"/content/drive\", force_remount=True).\n"
          ]
        }
      ]
    },
    {
      "cell_type": "code",
      "source": [
        "data = pd.read_excel('/content/drive/MyDrive/Planilhas/Cluster.xlsx')"
      ],
      "metadata": {
        "id": "b_iCpyMswBJv"
      },
      "execution_count": null,
      "outputs": []
    },
    {
      "cell_type": "code",
      "source": [
        "total_demand_Qtd_Transp = data['Qtd.Transp'].sum()"
      ],
      "metadata": {
        "id": "WDItsphjwYh7"
      },
      "execution_count": null,
      "outputs": []
    },
    {
      "cell_type": "code",
      "source": [
        "print(data)"
      ],
      "metadata": {
        "colab": {
          "base_uri": "https://localhost:8080/"
        },
        "id": "nq3V8O3jBuFJ",
        "outputId": "33dd3967-a14e-46b7-dc67-0d42a60208b9"
      },
      "execution_count": null,
      "outputs": [
        {
          "output_type": "stream",
          "name": "stdout",
          "text": [
            "   ID  Cluster  Qtd.Transp        LAT       LONG\n",
            "0   0        1    17258200 -23.150430 -45.778035\n",
            "1   1        2     5341000 -22.731910 -47.454605\n",
            "2   2        3    38613600 -23.558516 -46.713095\n",
            "3   3        4     4948400 -21.170440 -47.785087\n",
            "4   4        5     3500000 -22.314190 -49.062805\n",
            "5   5        6    18557600 -23.061994 -47.167170\n",
            "6   6        7     2272000 -22.035607 -47.876790\n"
          ]
        }
      ]
    },
    {
      "cell_type": "code",
      "source": [
        "print(data.dtypes)"
      ],
      "metadata": {
        "colab": {
          "base_uri": "https://localhost:8080/"
        },
        "id": "PdxxbG5YZjf3",
        "outputId": "5230d2a4-62bc-448a-fc24-d605389c7e83"
      },
      "execution_count": null,
      "outputs": [
        {
          "output_type": "stream",
          "name": "stdout",
          "text": [
            "ID              int64\n",
            "Cluster         int64\n",
            "Qtd.Transp      int64\n",
            "LAT           float64\n",
            "LONG          float64\n",
            "dtype: object\n"
          ]
        }
      ]
    },
    {
      "cell_type": "code",
      "source": [
        "columns_to_convert = ['LAT', 'LONG', 'Qtd.Transp']\n",
        "for col in columns_to_convert:\n",
        "    data[col] = data[col].astype(float)\n",
        "\n",
        "print(data.dtypes)"
      ],
      "metadata": {
        "colab": {
          "base_uri": "https://localhost:8080/"
        },
        "id": "38Ft5eR4aPwH",
        "outputId": "716d0212-aa28-4a5d-80f3-c3b72c8c386f"
      },
      "execution_count": null,
      "outputs": [
        {
          "output_type": "stream",
          "name": "stdout",
          "text": [
            "ID               int64\n",
            "Cluster          int64\n",
            "Qtd.Transp     float64\n",
            "LAT            float64\n",
            "LONG           float64\n",
            "coordinates     object\n",
            "x_weighted      object\n",
            "y_weighted      object\n",
            "dtype: object\n"
          ]
        }
      ]
    },
    {
      "cell_type": "code",
      "source": [
        "data['coordinates'] = data.apply(lambda row: (row['LAT'], row['LONG']), axis=1)"
      ],
      "metadata": {
        "id": "37iCwcr9wuhB"
      },
      "execution_count": null,
      "outputs": []
    },
    {
      "cell_type": "code",
      "source": [
        "print(data)"
      ],
      "metadata": {
        "colab": {
          "base_uri": "https://localhost:8080/"
        },
        "id": "hYWGn_X3gFSj",
        "outputId": "3a31dfa5-51c2-454d-ef04-65fab84d715b"
      },
      "execution_count": null,
      "outputs": [
        {
          "output_type": "stream",
          "name": "stdout",
          "text": [
            "   ID  Cluster  Qtd.Transp   LAT  LONG     coordinates x_weighted y_weighted\n",
            "0   0        1  17258200.0 -23.0 -45.0  (-23.0, -45.0)         []         []\n",
            "1   1        2   5341000.0 -22.0 -47.0  (-22.0, -47.0)         []         []\n",
            "2   2        3  38613600.0 -23.0 -46.0  (-23.0, -46.0)         []         []\n",
            "3   3        4   4948400.0 -21.0 -47.0  (-21.0, -47.0)         []         []\n",
            "4   4        5   3500000.0 -22.0 -49.0  (-22.0, -49.0)         []         []\n",
            "5   5        6  18557600.0 -23.0 -47.0  (-23.0, -47.0)         []         []\n",
            "6   6        7   2272000.0 -22.0 -47.0  (-22.0, -47.0)         []         []\n"
          ]
        }
      ]
    },
    {
      "cell_type": "code",
      "source": [
        "data['x_weighted'] = data.apply(lambda row: row['Qtd.Transp'] * row['coordinates'][0], axis=1)\n",
        "x_cog = data['x_weighted'].sum() / total_demand_Qtd_Transp\n"
      ],
      "metadata": {
        "id": "hVfuzzOJgiRI"
      },
      "execution_count": null,
      "outputs": []
    },
    {
      "cell_type": "code",
      "source": [
        "data['y_weighted'] = data.apply(lambda row: row['Qtd.Transp'] * row['coordinates'][1], axis=1)\n",
        "y_cog = data['y_weighted'].sum() / total_demand_Qtd_Transp"
      ],
      "metadata": {
        "id": "dHHwlm3De9rQ"
      },
      "execution_count": null,
      "outputs": []
    },
    {
      "cell_type": "code",
      "source": [
        "print('the center of gravity is located at: {},{}'.format(x_cog, y_cog))"
      ],
      "metadata": {
        "colab": {
          "base_uri": "https://localhost:8080/"
        },
        "id": "8L4cFPfKfE-B",
        "outputId": "19214906-7d68-4cb5-c396-886689041d88"
      },
      "execution_count": null,
      "outputs": [
        {
          "output_type": "stream",
          "name": "stdout",
          "text": [
            "the center of gravity is located at: -22.767823911381047,-46.26920747744522\n"
          ]
        }
      ]
    },
    {
      "cell_type": "code",
      "source": [],
      "metadata": {
        "id": "oCAqXooig2lC"
      },
      "execution_count": null,
      "outputs": []
    }
  ]
}