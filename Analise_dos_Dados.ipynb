{
  "cells": [
    {
      "cell_type": "markdown",
      "metadata": {
        "id": "view-in-github",
        "colab_type": "text"
      },
      "source": [
        "<a href=\"https://colab.research.google.com/github/Brudeoli17/Projeto-Marcus/blob/main/Analise_dos_Dados.ipynb\" target=\"_parent\"><img src=\"https://colab.research.google.com/assets/colab-badge.svg\" alt=\"Open In Colab\"/></a>"
      ]
    },
    {
      "cell_type": "markdown",
      "source": [],
      "metadata": {
        "id": "OeeASVKilsK1"
      }
    },
    {
      "cell_type": "code",
      "source": [
        "import pandas as pd\n",
        "import numpy as np \n"
      ],
      "metadata": {
        "id": "W0l-Qm0HUwlF"
      },
      "execution_count": 1,
      "outputs": []
    },
    {
      "cell_type": "code",
      "source": [
        "from google.colab import drive"
      ],
      "metadata": {
        "id": "JVUleQxKXOEo"
      },
      "execution_count": 2,
      "outputs": []
    },
    {
      "cell_type": "code",
      "source": [
        "drive.mount('/content/drive')\n",
        "df = pd.read_csv('/content/drive/MyDrive/Data/Rotas.csv', low_memory=False, sep=';', encoding='UTF-8')"
      ],
      "metadata": {
        "id": "t1fLCHY0YbGR",
        "colab": {
          "base_uri": "https://localhost:8080/"
        },
        "outputId": "74e2609d-98d5-426b-f3db-2762ea0a8b9b"
      },
      "execution_count": 4,
      "outputs": [
        {
          "output_type": "stream",
          "name": "stdout",
          "text": [
            "Drive already mounted at /content/drive; to attempt to forcibly remount, call drive.mount(\"/content/drive\", force_remount=True).\n"
          ]
        }
      ]
    },
    {
      "cell_type": "code",
      "source": [
        "df_cl = pd.read_csv('/content/drive/MyDrive/Data/Clientes.csv', low_memory=False, sep=';', encoding='UTF-8')"
      ],
      "metadata": {
        "id": "2aigmLjpwUbd"
      },
      "execution_count": 5,
      "outputs": []
    },
    {
      "cell_type": "code",
      "source": [
        "df_fa = pd.read_csv('/content/drive/MyDrive/Data/Fabricas.csv', low_memory=False, sep=';', encoding='UTF-8')"
      ],
      "metadata": {
        "id": "f-ztBHh1wWrr"
      },
      "execution_count": 6,
      "outputs": []
    },
    {
      "cell_type": "code",
      "source": [
        "df.head(2)"
      ],
      "metadata": {
        "colab": {
          "base_uri": "https://localhost:8080/",
          "height": 112
        },
        "id": "JKKav2jNxF5y",
        "outputId": "11a2fe94-4dc7-479d-a83a-36cb094e3798"
      },
      "execution_count": 7,
      "outputs": [
        {
          "output_type": "execute_result",
          "data": {
            "text/plain": [
              "   Dt.Fat  Dt.Entrega Mes.Base Ano.Exec CO.Fabrica  CO.Cliente Tp.Operacao  \\\n",
              "0   44200       44209      Jan     2021    3423909        2303          VD   \n",
              "1   44210       44218      Jan     2021    3403208        2302          VD   \n",
              "\n",
              "  Incoterm Veiculo  Qtd.Transp Moeda Vlr.Frete  \n",
              "0      CIF     P12        1800   BRL      6000  \n",
              "1      FOB     P12        1600   BRL         0  "
            ],
            "text/html": [
              "\n",
              "  <div id=\"df-0bc5ef24-f8c8-421b-a365-209646a103a8\">\n",
              "    <div class=\"colab-df-container\">\n",
              "      <div>\n",
              "<style scoped>\n",
              "    .dataframe tbody tr th:only-of-type {\n",
              "        vertical-align: middle;\n",
              "    }\n",
              "\n",
              "    .dataframe tbody tr th {\n",
              "        vertical-align: top;\n",
              "    }\n",
              "\n",
              "    .dataframe thead th {\n",
              "        text-align: right;\n",
              "    }\n",
              "</style>\n",
              "<table border=\"1\" class=\"dataframe\">\n",
              "  <thead>\n",
              "    <tr style=\"text-align: right;\">\n",
              "      <th></th>\n",
              "      <th>Dt.Fat</th>\n",
              "      <th>Dt.Entrega</th>\n",
              "      <th>Mes.Base</th>\n",
              "      <th>Ano.Exec</th>\n",
              "      <th>CO.Fabrica</th>\n",
              "      <th>CO.Cliente</th>\n",
              "      <th>Tp.Operacao</th>\n",
              "      <th>Incoterm</th>\n",
              "      <th>Veiculo</th>\n",
              "      <th>Qtd.Transp</th>\n",
              "      <th>Moeda</th>\n",
              "      <th>Vlr.Frete</th>\n",
              "    </tr>\n",
              "  </thead>\n",
              "  <tbody>\n",
              "    <tr>\n",
              "      <th>0</th>\n",
              "      <td>44200</td>\n",
              "      <td>44209</td>\n",
              "      <td>Jan</td>\n",
              "      <td>2021</td>\n",
              "      <td>3423909</td>\n",
              "      <td>2303</td>\n",
              "      <td>VD</td>\n",
              "      <td>CIF</td>\n",
              "      <td>P12</td>\n",
              "      <td>1800</td>\n",
              "      <td>BRL</td>\n",
              "      <td>6000</td>\n",
              "    </tr>\n",
              "    <tr>\n",
              "      <th>1</th>\n",
              "      <td>44210</td>\n",
              "      <td>44218</td>\n",
              "      <td>Jan</td>\n",
              "      <td>2021</td>\n",
              "      <td>3403208</td>\n",
              "      <td>2302</td>\n",
              "      <td>VD</td>\n",
              "      <td>FOB</td>\n",
              "      <td>P12</td>\n",
              "      <td>1600</td>\n",
              "      <td>BRL</td>\n",
              "      <td>0</td>\n",
              "    </tr>\n",
              "  </tbody>\n",
              "</table>\n",
              "</div>\n",
              "      <button class=\"colab-df-convert\" onclick=\"convertToInteractive('df-0bc5ef24-f8c8-421b-a365-209646a103a8')\"\n",
              "              title=\"Convert this dataframe to an interactive table.\"\n",
              "              style=\"display:none;\">\n",
              "        \n",
              "  <svg xmlns=\"http://www.w3.org/2000/svg\" height=\"24px\"viewBox=\"0 0 24 24\"\n",
              "       width=\"24px\">\n",
              "    <path d=\"M0 0h24v24H0V0z\" fill=\"none\"/>\n",
              "    <path d=\"M18.56 5.44l.94 2.06.94-2.06 2.06-.94-2.06-.94-.94-2.06-.94 2.06-2.06.94zm-11 1L8.5 8.5l.94-2.06 2.06-.94-2.06-.94L8.5 2.5l-.94 2.06-2.06.94zm10 10l.94 2.06.94-2.06 2.06-.94-2.06-.94-.94-2.06-.94 2.06-2.06.94z\"/><path d=\"M17.41 7.96l-1.37-1.37c-.4-.4-.92-.59-1.43-.59-.52 0-1.04.2-1.43.59L10.3 9.45l-7.72 7.72c-.78.78-.78 2.05 0 2.83L4 21.41c.39.39.9.59 1.41.59.51 0 1.02-.2 1.41-.59l7.78-7.78 2.81-2.81c.8-.78.8-2.07 0-2.86zM5.41 20L4 18.59l7.72-7.72 1.47 1.35L5.41 20z\"/>\n",
              "  </svg>\n",
              "      </button>\n",
              "      \n",
              "  <style>\n",
              "    .colab-df-container {\n",
              "      display:flex;\n",
              "      flex-wrap:wrap;\n",
              "      gap: 12px;\n",
              "    }\n",
              "\n",
              "    .colab-df-convert {\n",
              "      background-color: #E8F0FE;\n",
              "      border: none;\n",
              "      border-radius: 50%;\n",
              "      cursor: pointer;\n",
              "      display: none;\n",
              "      fill: #1967D2;\n",
              "      height: 32px;\n",
              "      padding: 0 0 0 0;\n",
              "      width: 32px;\n",
              "    }\n",
              "\n",
              "    .colab-df-convert:hover {\n",
              "      background-color: #E2EBFA;\n",
              "      box-shadow: 0px 1px 2px rgba(60, 64, 67, 0.3), 0px 1px 3px 1px rgba(60, 64, 67, 0.15);\n",
              "      fill: #174EA6;\n",
              "    }\n",
              "\n",
              "    [theme=dark] .colab-df-convert {\n",
              "      background-color: #3B4455;\n",
              "      fill: #D2E3FC;\n",
              "    }\n",
              "\n",
              "    [theme=dark] .colab-df-convert:hover {\n",
              "      background-color: #434B5C;\n",
              "      box-shadow: 0px 1px 3px 1px rgba(0, 0, 0, 0.15);\n",
              "      filter: drop-shadow(0px 1px 2px rgba(0, 0, 0, 0.3));\n",
              "      fill: #FFFFFF;\n",
              "    }\n",
              "  </style>\n",
              "\n",
              "      <script>\n",
              "        const buttonEl =\n",
              "          document.querySelector('#df-0bc5ef24-f8c8-421b-a365-209646a103a8 button.colab-df-convert');\n",
              "        buttonEl.style.display =\n",
              "          google.colab.kernel.accessAllowed ? 'block' : 'none';\n",
              "\n",
              "        async function convertToInteractive(key) {\n",
              "          const element = document.querySelector('#df-0bc5ef24-f8c8-421b-a365-209646a103a8');\n",
              "          const dataTable =\n",
              "            await google.colab.kernel.invokeFunction('convertToInteractive',\n",
              "                                                     [key], {});\n",
              "          if (!dataTable) return;\n",
              "\n",
              "          const docLinkHtml = 'Like what you see? Visit the ' +\n",
              "            '<a target=\"_blank\" href=https://colab.research.google.com/notebooks/data_table.ipynb>data table notebook</a>'\n",
              "            + ' to learn more about interactive tables.';\n",
              "          element.innerHTML = '';\n",
              "          dataTable['output_type'] = 'display_data';\n",
              "          await google.colab.output.renderOutput(dataTable, element);\n",
              "          const docLink = document.createElement('div');\n",
              "          docLink.innerHTML = docLinkHtml;\n",
              "          element.appendChild(docLink);\n",
              "        }\n",
              "      </script>\n",
              "    </div>\n",
              "  </div>\n",
              "  "
            ]
          },
          "metadata": {},
          "execution_count": 7
        }
      ]
    },
    {
      "cell_type": "code",
      "source": [
        "df_cl.head(2)"
      ],
      "metadata": {
        "colab": {
          "base_uri": "https://localhost:8080/",
          "height": 112
        },
        "id": "N7uMDukRxGZQ",
        "outputId": "ce9953b2-a3f5-4b7a-e98e-62bde072f442"
      },
      "execution_count": 10,
      "outputs": [
        {
          "output_type": "execute_result",
          "data": {
            "text/plain": [
              "   CO.Cliente       MUN      LAT     LONG\n",
              "0        2301  VALINHOS  2295188  4702779\n",
              "1        2302  CAMPINAS  2289429  4705822"
            ],
            "text/html": [
              "\n",
              "  <div id=\"df-a7aacefb-95e5-4415-aa31-909de6a4e3e7\">\n",
              "    <div class=\"colab-df-container\">\n",
              "      <div>\n",
              "<style scoped>\n",
              "    .dataframe tbody tr th:only-of-type {\n",
              "        vertical-align: middle;\n",
              "    }\n",
              "\n",
              "    .dataframe tbody tr th {\n",
              "        vertical-align: top;\n",
              "    }\n",
              "\n",
              "    .dataframe thead th {\n",
              "        text-align: right;\n",
              "    }\n",
              "</style>\n",
              "<table border=\"1\" class=\"dataframe\">\n",
              "  <thead>\n",
              "    <tr style=\"text-align: right;\">\n",
              "      <th></th>\n",
              "      <th>CO.Cliente</th>\n",
              "      <th>MUN</th>\n",
              "      <th>LAT</th>\n",
              "      <th>LONG</th>\n",
              "    </tr>\n",
              "  </thead>\n",
              "  <tbody>\n",
              "    <tr>\n",
              "      <th>0</th>\n",
              "      <td>2301</td>\n",
              "      <td>VALINHOS</td>\n",
              "      <td>2295188</td>\n",
              "      <td>4702779</td>\n",
              "    </tr>\n",
              "    <tr>\n",
              "      <th>1</th>\n",
              "      <td>2302</td>\n",
              "      <td>CAMPINAS</td>\n",
              "      <td>2289429</td>\n",
              "      <td>4705822</td>\n",
              "    </tr>\n",
              "  </tbody>\n",
              "</table>\n",
              "</div>\n",
              "      <button class=\"colab-df-convert\" onclick=\"convertToInteractive('df-a7aacefb-95e5-4415-aa31-909de6a4e3e7')\"\n",
              "              title=\"Convert this dataframe to an interactive table.\"\n",
              "              style=\"display:none;\">\n",
              "        \n",
              "  <svg xmlns=\"http://www.w3.org/2000/svg\" height=\"24px\"viewBox=\"0 0 24 24\"\n",
              "       width=\"24px\">\n",
              "    <path d=\"M0 0h24v24H0V0z\" fill=\"none\"/>\n",
              "    <path d=\"M18.56 5.44l.94 2.06.94-2.06 2.06-.94-2.06-.94-.94-2.06-.94 2.06-2.06.94zm-11 1L8.5 8.5l.94-2.06 2.06-.94-2.06-.94L8.5 2.5l-.94 2.06-2.06.94zm10 10l.94 2.06.94-2.06 2.06-.94-2.06-.94-.94-2.06-.94 2.06-2.06.94z\"/><path d=\"M17.41 7.96l-1.37-1.37c-.4-.4-.92-.59-1.43-.59-.52 0-1.04.2-1.43.59L10.3 9.45l-7.72 7.72c-.78.78-.78 2.05 0 2.83L4 21.41c.39.39.9.59 1.41.59.51 0 1.02-.2 1.41-.59l7.78-7.78 2.81-2.81c.8-.78.8-2.07 0-2.86zM5.41 20L4 18.59l7.72-7.72 1.47 1.35L5.41 20z\"/>\n",
              "  </svg>\n",
              "      </button>\n",
              "      \n",
              "  <style>\n",
              "    .colab-df-container {\n",
              "      display:flex;\n",
              "      flex-wrap:wrap;\n",
              "      gap: 12px;\n",
              "    }\n",
              "\n",
              "    .colab-df-convert {\n",
              "      background-color: #E8F0FE;\n",
              "      border: none;\n",
              "      border-radius: 50%;\n",
              "      cursor: pointer;\n",
              "      display: none;\n",
              "      fill: #1967D2;\n",
              "      height: 32px;\n",
              "      padding: 0 0 0 0;\n",
              "      width: 32px;\n",
              "    }\n",
              "\n",
              "    .colab-df-convert:hover {\n",
              "      background-color: #E2EBFA;\n",
              "      box-shadow: 0px 1px 2px rgba(60, 64, 67, 0.3), 0px 1px 3px 1px rgba(60, 64, 67, 0.15);\n",
              "      fill: #174EA6;\n",
              "    }\n",
              "\n",
              "    [theme=dark] .colab-df-convert {\n",
              "      background-color: #3B4455;\n",
              "      fill: #D2E3FC;\n",
              "    }\n",
              "\n",
              "    [theme=dark] .colab-df-convert:hover {\n",
              "      background-color: #434B5C;\n",
              "      box-shadow: 0px 1px 3px 1px rgba(0, 0, 0, 0.15);\n",
              "      filter: drop-shadow(0px 1px 2px rgba(0, 0, 0, 0.3));\n",
              "      fill: #FFFFFF;\n",
              "    }\n",
              "  </style>\n",
              "\n",
              "      <script>\n",
              "        const buttonEl =\n",
              "          document.querySelector('#df-a7aacefb-95e5-4415-aa31-909de6a4e3e7 button.colab-df-convert');\n",
              "        buttonEl.style.display =\n",
              "          google.colab.kernel.accessAllowed ? 'block' : 'none';\n",
              "\n",
              "        async function convertToInteractive(key) {\n",
              "          const element = document.querySelector('#df-a7aacefb-95e5-4415-aa31-909de6a4e3e7');\n",
              "          const dataTable =\n",
              "            await google.colab.kernel.invokeFunction('convertToInteractive',\n",
              "                                                     [key], {});\n",
              "          if (!dataTable) return;\n",
              "\n",
              "          const docLinkHtml = 'Like what you see? Visit the ' +\n",
              "            '<a target=\"_blank\" href=https://colab.research.google.com/notebooks/data_table.ipynb>data table notebook</a>'\n",
              "            + ' to learn more about interactive tables.';\n",
              "          element.innerHTML = '';\n",
              "          dataTable['output_type'] = 'display_data';\n",
              "          await google.colab.output.renderOutput(dataTable, element);\n",
              "          const docLink = document.createElement('div');\n",
              "          docLink.innerHTML = docLinkHtml;\n",
              "          element.appendChild(docLink);\n",
              "        }\n",
              "      </script>\n",
              "    </div>\n",
              "  </div>\n",
              "  "
            ]
          },
          "metadata": {},
          "execution_count": 10
        }
      ]
    },
    {
      "cell_type": "code",
      "source": [
        "df['CO.Cliente'].value_counts()"
      ],
      "metadata": {
        "id": "dxb3tI2gy5b7"
      },
      "execution_count": null,
      "outputs": []
    },
    {
      "cell_type": "code",
      "source": [
        "df_fa.head(2)"
      ],
      "metadata": {
        "id": "g9y-4hzBbdYQ",
        "colab": {
          "base_uri": "https://localhost:8080/",
          "height": 112
        },
        "outputId": "6ff492c6-ec94-4f84-f7ff-0ab54adbb5dd"
      },
      "execution_count": 11,
      "outputs": [
        {
          "output_type": "execute_result",
          "data": {
            "text/plain": [
              "   CO.Fabrica      NO_MUN  NO_MUN_MIN SG_UF\n",
              "0     3423909         ITU         Itu    SP\n",
              "1     3403208  ARARAQUARA  Araraquara    SP"
            ],
            "text/html": [
              "\n",
              "  <div id=\"df-441bc85a-3324-4213-9186-b85e0277a01d\">\n",
              "    <div class=\"colab-df-container\">\n",
              "      <div>\n",
              "<style scoped>\n",
              "    .dataframe tbody tr th:only-of-type {\n",
              "        vertical-align: middle;\n",
              "    }\n",
              "\n",
              "    .dataframe tbody tr th {\n",
              "        vertical-align: top;\n",
              "    }\n",
              "\n",
              "    .dataframe thead th {\n",
              "        text-align: right;\n",
              "    }\n",
              "</style>\n",
              "<table border=\"1\" class=\"dataframe\">\n",
              "  <thead>\n",
              "    <tr style=\"text-align: right;\">\n",
              "      <th></th>\n",
              "      <th>CO.Fabrica</th>\n",
              "      <th>NO_MUN</th>\n",
              "      <th>NO_MUN_MIN</th>\n",
              "      <th>SG_UF</th>\n",
              "    </tr>\n",
              "  </thead>\n",
              "  <tbody>\n",
              "    <tr>\n",
              "      <th>0</th>\n",
              "      <td>3423909</td>\n",
              "      <td>ITU</td>\n",
              "      <td>Itu</td>\n",
              "      <td>SP</td>\n",
              "    </tr>\n",
              "    <tr>\n",
              "      <th>1</th>\n",
              "      <td>3403208</td>\n",
              "      <td>ARARAQUARA</td>\n",
              "      <td>Araraquara</td>\n",
              "      <td>SP</td>\n",
              "    </tr>\n",
              "  </tbody>\n",
              "</table>\n",
              "</div>\n",
              "      <button class=\"colab-df-convert\" onclick=\"convertToInteractive('df-441bc85a-3324-4213-9186-b85e0277a01d')\"\n",
              "              title=\"Convert this dataframe to an interactive table.\"\n",
              "              style=\"display:none;\">\n",
              "        \n",
              "  <svg xmlns=\"http://www.w3.org/2000/svg\" height=\"24px\"viewBox=\"0 0 24 24\"\n",
              "       width=\"24px\">\n",
              "    <path d=\"M0 0h24v24H0V0z\" fill=\"none\"/>\n",
              "    <path d=\"M18.56 5.44l.94 2.06.94-2.06 2.06-.94-2.06-.94-.94-2.06-.94 2.06-2.06.94zm-11 1L8.5 8.5l.94-2.06 2.06-.94-2.06-.94L8.5 2.5l-.94 2.06-2.06.94zm10 10l.94 2.06.94-2.06 2.06-.94-2.06-.94-.94-2.06-.94 2.06-2.06.94z\"/><path d=\"M17.41 7.96l-1.37-1.37c-.4-.4-.92-.59-1.43-.59-.52 0-1.04.2-1.43.59L10.3 9.45l-7.72 7.72c-.78.78-.78 2.05 0 2.83L4 21.41c.39.39.9.59 1.41.59.51 0 1.02-.2 1.41-.59l7.78-7.78 2.81-2.81c.8-.78.8-2.07 0-2.86zM5.41 20L4 18.59l7.72-7.72 1.47 1.35L5.41 20z\"/>\n",
              "  </svg>\n",
              "      </button>\n",
              "      \n",
              "  <style>\n",
              "    .colab-df-container {\n",
              "      display:flex;\n",
              "      flex-wrap:wrap;\n",
              "      gap: 12px;\n",
              "    }\n",
              "\n",
              "    .colab-df-convert {\n",
              "      background-color: #E8F0FE;\n",
              "      border: none;\n",
              "      border-radius: 50%;\n",
              "      cursor: pointer;\n",
              "      display: none;\n",
              "      fill: #1967D2;\n",
              "      height: 32px;\n",
              "      padding: 0 0 0 0;\n",
              "      width: 32px;\n",
              "    }\n",
              "\n",
              "    .colab-df-convert:hover {\n",
              "      background-color: #E2EBFA;\n",
              "      box-shadow: 0px 1px 2px rgba(60, 64, 67, 0.3), 0px 1px 3px 1px rgba(60, 64, 67, 0.15);\n",
              "      fill: #174EA6;\n",
              "    }\n",
              "\n",
              "    [theme=dark] .colab-df-convert {\n",
              "      background-color: #3B4455;\n",
              "      fill: #D2E3FC;\n",
              "    }\n",
              "\n",
              "    [theme=dark] .colab-df-convert:hover {\n",
              "      background-color: #434B5C;\n",
              "      box-shadow: 0px 1px 3px 1px rgba(0, 0, 0, 0.15);\n",
              "      filter: drop-shadow(0px 1px 2px rgba(0, 0, 0, 0.3));\n",
              "      fill: #FFFFFF;\n",
              "    }\n",
              "  </style>\n",
              "\n",
              "      <script>\n",
              "        const buttonEl =\n",
              "          document.querySelector('#df-441bc85a-3324-4213-9186-b85e0277a01d button.colab-df-convert');\n",
              "        buttonEl.style.display =\n",
              "          google.colab.kernel.accessAllowed ? 'block' : 'none';\n",
              "\n",
              "        async function convertToInteractive(key) {\n",
              "          const element = document.querySelector('#df-441bc85a-3324-4213-9186-b85e0277a01d');\n",
              "          const dataTable =\n",
              "            await google.colab.kernel.invokeFunction('convertToInteractive',\n",
              "                                                     [key], {});\n",
              "          if (!dataTable) return;\n",
              "\n",
              "          const docLinkHtml = 'Like what you see? Visit the ' +\n",
              "            '<a target=\"_blank\" href=https://colab.research.google.com/notebooks/data_table.ipynb>data table notebook</a>'\n",
              "            + ' to learn more about interactive tables.';\n",
              "          element.innerHTML = '';\n",
              "          dataTable['output_type'] = 'display_data';\n",
              "          await google.colab.output.renderOutput(dataTable, element);\n",
              "          const docLink = document.createElement('div');\n",
              "          docLink.innerHTML = docLinkHtml;\n",
              "          element.appendChild(docLink);\n",
              "        }\n",
              "      </script>\n",
              "    </div>\n",
              "  </div>\n",
              "  "
            ]
          },
          "metadata": {},
          "execution_count": 11
        }
      ]
    },
    {
      "cell_type": "code",
      "source": [
        "df_m = pd.merge(df, df_cl, how = 'outer', on = 'CO.Cliente')"
      ],
      "metadata": {
        "id": "lkrTuKbZxvvf"
      },
      "execution_count": 12,
      "outputs": []
    },
    {
      "cell_type": "code",
      "source": [
        "df_m.head(5)"
      ],
      "metadata": {
        "colab": {
          "base_uri": "https://localhost:8080/",
          "height": 206
        },
        "id": "3ebHCwHOxv9K",
        "outputId": "72b64078-4943-4036-f700-82913a9fe38b"
      },
      "execution_count": 13,
      "outputs": [
        {
          "output_type": "execute_result",
          "data": {
            "text/plain": [
              "   Dt.Fat  Dt.Entrega Mes.Base Ano.Exec CO.Fabrica  CO.Cliente Tp.Operacao  \\\n",
              "0   44200       44209      Jan     2021    3423909        2303          VD   \n",
              "1   44212       44214      Jan     2021    3403208        2303          VD   \n",
              "2   44214       44222      Jan     2021    3423909        2303          VD   \n",
              "3   44215       44219      Jan     2021    3423909        2303          VD   \n",
              "4   44217       44228      Jan     2021    3403208        2303          VD   \n",
              "\n",
              "  Incoterm Veiculo  Qtd.Transp Moeda Vlr.Frete       MUN      LAT     LONG  \n",
              "0      CIF     P12        1800   BRL      6000  CAMPINAS  2292634  4703974  \n",
              "1      FOB     P12        1800   BRL         0  CAMPINAS  2292634  4703974  \n",
              "2      FOB     P12        1600   BRL         0  CAMPINAS  2292634  4703974  \n",
              "3      FOB     P12        1800   BRL         0  CAMPINAS  2292634  4703974  \n",
              "4      FOB     P12        1200   BRL         0  CAMPINAS  2292634  4703974  "
            ],
            "text/html": [
              "\n",
              "  <div id=\"df-7bb043ea-b827-435d-b521-1e9b0eb4b562\">\n",
              "    <div class=\"colab-df-container\">\n",
              "      <div>\n",
              "<style scoped>\n",
              "    .dataframe tbody tr th:only-of-type {\n",
              "        vertical-align: middle;\n",
              "    }\n",
              "\n",
              "    .dataframe tbody tr th {\n",
              "        vertical-align: top;\n",
              "    }\n",
              "\n",
              "    .dataframe thead th {\n",
              "        text-align: right;\n",
              "    }\n",
              "</style>\n",
              "<table border=\"1\" class=\"dataframe\">\n",
              "  <thead>\n",
              "    <tr style=\"text-align: right;\">\n",
              "      <th></th>\n",
              "      <th>Dt.Fat</th>\n",
              "      <th>Dt.Entrega</th>\n",
              "      <th>Mes.Base</th>\n",
              "      <th>Ano.Exec</th>\n",
              "      <th>CO.Fabrica</th>\n",
              "      <th>CO.Cliente</th>\n",
              "      <th>Tp.Operacao</th>\n",
              "      <th>Incoterm</th>\n",
              "      <th>Veiculo</th>\n",
              "      <th>Qtd.Transp</th>\n",
              "      <th>Moeda</th>\n",
              "      <th>Vlr.Frete</th>\n",
              "      <th>MUN</th>\n",
              "      <th>LAT</th>\n",
              "      <th>LONG</th>\n",
              "    </tr>\n",
              "  </thead>\n",
              "  <tbody>\n",
              "    <tr>\n",
              "      <th>0</th>\n",
              "      <td>44200</td>\n",
              "      <td>44209</td>\n",
              "      <td>Jan</td>\n",
              "      <td>2021</td>\n",
              "      <td>3423909</td>\n",
              "      <td>2303</td>\n",
              "      <td>VD</td>\n",
              "      <td>CIF</td>\n",
              "      <td>P12</td>\n",
              "      <td>1800</td>\n",
              "      <td>BRL</td>\n",
              "      <td>6000</td>\n",
              "      <td>CAMPINAS</td>\n",
              "      <td>2292634</td>\n",
              "      <td>4703974</td>\n",
              "    </tr>\n",
              "    <tr>\n",
              "      <th>1</th>\n",
              "      <td>44212</td>\n",
              "      <td>44214</td>\n",
              "      <td>Jan</td>\n",
              "      <td>2021</td>\n",
              "      <td>3403208</td>\n",
              "      <td>2303</td>\n",
              "      <td>VD</td>\n",
              "      <td>FOB</td>\n",
              "      <td>P12</td>\n",
              "      <td>1800</td>\n",
              "      <td>BRL</td>\n",
              "      <td>0</td>\n",
              "      <td>CAMPINAS</td>\n",
              "      <td>2292634</td>\n",
              "      <td>4703974</td>\n",
              "    </tr>\n",
              "    <tr>\n",
              "      <th>2</th>\n",
              "      <td>44214</td>\n",
              "      <td>44222</td>\n",
              "      <td>Jan</td>\n",
              "      <td>2021</td>\n",
              "      <td>3423909</td>\n",
              "      <td>2303</td>\n",
              "      <td>VD</td>\n",
              "      <td>FOB</td>\n",
              "      <td>P12</td>\n",
              "      <td>1600</td>\n",
              "      <td>BRL</td>\n",
              "      <td>0</td>\n",
              "      <td>CAMPINAS</td>\n",
              "      <td>2292634</td>\n",
              "      <td>4703974</td>\n",
              "    </tr>\n",
              "    <tr>\n",
              "      <th>3</th>\n",
              "      <td>44215</td>\n",
              "      <td>44219</td>\n",
              "      <td>Jan</td>\n",
              "      <td>2021</td>\n",
              "      <td>3423909</td>\n",
              "      <td>2303</td>\n",
              "      <td>VD</td>\n",
              "      <td>FOB</td>\n",
              "      <td>P12</td>\n",
              "      <td>1800</td>\n",
              "      <td>BRL</td>\n",
              "      <td>0</td>\n",
              "      <td>CAMPINAS</td>\n",
              "      <td>2292634</td>\n",
              "      <td>4703974</td>\n",
              "    </tr>\n",
              "    <tr>\n",
              "      <th>4</th>\n",
              "      <td>44217</td>\n",
              "      <td>44228</td>\n",
              "      <td>Jan</td>\n",
              "      <td>2021</td>\n",
              "      <td>3403208</td>\n",
              "      <td>2303</td>\n",
              "      <td>VD</td>\n",
              "      <td>FOB</td>\n",
              "      <td>P12</td>\n",
              "      <td>1200</td>\n",
              "      <td>BRL</td>\n",
              "      <td>0</td>\n",
              "      <td>CAMPINAS</td>\n",
              "      <td>2292634</td>\n",
              "      <td>4703974</td>\n",
              "    </tr>\n",
              "  </tbody>\n",
              "</table>\n",
              "</div>\n",
              "      <button class=\"colab-df-convert\" onclick=\"convertToInteractive('df-7bb043ea-b827-435d-b521-1e9b0eb4b562')\"\n",
              "              title=\"Convert this dataframe to an interactive table.\"\n",
              "              style=\"display:none;\">\n",
              "        \n",
              "  <svg xmlns=\"http://www.w3.org/2000/svg\" height=\"24px\"viewBox=\"0 0 24 24\"\n",
              "       width=\"24px\">\n",
              "    <path d=\"M0 0h24v24H0V0z\" fill=\"none\"/>\n",
              "    <path d=\"M18.56 5.44l.94 2.06.94-2.06 2.06-.94-2.06-.94-.94-2.06-.94 2.06-2.06.94zm-11 1L8.5 8.5l.94-2.06 2.06-.94-2.06-.94L8.5 2.5l-.94 2.06-2.06.94zm10 10l.94 2.06.94-2.06 2.06-.94-2.06-.94-.94-2.06-.94 2.06-2.06.94z\"/><path d=\"M17.41 7.96l-1.37-1.37c-.4-.4-.92-.59-1.43-.59-.52 0-1.04.2-1.43.59L10.3 9.45l-7.72 7.72c-.78.78-.78 2.05 0 2.83L4 21.41c.39.39.9.59 1.41.59.51 0 1.02-.2 1.41-.59l7.78-7.78 2.81-2.81c.8-.78.8-2.07 0-2.86zM5.41 20L4 18.59l7.72-7.72 1.47 1.35L5.41 20z\"/>\n",
              "  </svg>\n",
              "      </button>\n",
              "      \n",
              "  <style>\n",
              "    .colab-df-container {\n",
              "      display:flex;\n",
              "      flex-wrap:wrap;\n",
              "      gap: 12px;\n",
              "    }\n",
              "\n",
              "    .colab-df-convert {\n",
              "      background-color: #E8F0FE;\n",
              "      border: none;\n",
              "      border-radius: 50%;\n",
              "      cursor: pointer;\n",
              "      display: none;\n",
              "      fill: #1967D2;\n",
              "      height: 32px;\n",
              "      padding: 0 0 0 0;\n",
              "      width: 32px;\n",
              "    }\n",
              "\n",
              "    .colab-df-convert:hover {\n",
              "      background-color: #E2EBFA;\n",
              "      box-shadow: 0px 1px 2px rgba(60, 64, 67, 0.3), 0px 1px 3px 1px rgba(60, 64, 67, 0.15);\n",
              "      fill: #174EA6;\n",
              "    }\n",
              "\n",
              "    [theme=dark] .colab-df-convert {\n",
              "      background-color: #3B4455;\n",
              "      fill: #D2E3FC;\n",
              "    }\n",
              "\n",
              "    [theme=dark] .colab-df-convert:hover {\n",
              "      background-color: #434B5C;\n",
              "      box-shadow: 0px 1px 3px 1px rgba(0, 0, 0, 0.15);\n",
              "      filter: drop-shadow(0px 1px 2px rgba(0, 0, 0, 0.3));\n",
              "      fill: #FFFFFF;\n",
              "    }\n",
              "  </style>\n",
              "\n",
              "      <script>\n",
              "        const buttonEl =\n",
              "          document.querySelector('#df-7bb043ea-b827-435d-b521-1e9b0eb4b562 button.colab-df-convert');\n",
              "        buttonEl.style.display =\n",
              "          google.colab.kernel.accessAllowed ? 'block' : 'none';\n",
              "\n",
              "        async function convertToInteractive(key) {\n",
              "          const element = document.querySelector('#df-7bb043ea-b827-435d-b521-1e9b0eb4b562');\n",
              "          const dataTable =\n",
              "            await google.colab.kernel.invokeFunction('convertToInteractive',\n",
              "                                                     [key], {});\n",
              "          if (!dataTable) return;\n",
              "\n",
              "          const docLinkHtml = 'Like what you see? Visit the ' +\n",
              "            '<a target=\"_blank\" href=https://colab.research.google.com/notebooks/data_table.ipynb>data table notebook</a>'\n",
              "            + ' to learn more about interactive tables.';\n",
              "          element.innerHTML = '';\n",
              "          dataTable['output_type'] = 'display_data';\n",
              "          await google.colab.output.renderOutput(dataTable, element);\n",
              "          const docLink = document.createElement('div');\n",
              "          docLink.innerHTML = docLinkHtml;\n",
              "          element.appendChild(docLink);\n",
              "        }\n",
              "      </script>\n",
              "    </div>\n",
              "  </div>\n",
              "  "
            ]
          },
          "metadata": {},
          "execution_count": 13
        }
      ]
    },
    {
      "cell_type": "code",
      "source": [
        "df_fa['CO.Fabrica'] = df_fa['CO.Fabrica'].astype('str')  \n"
      ],
      "metadata": {
        "id": "4OeH_Gka14AI"
      },
      "execution_count": 14,
      "outputs": []
    },
    {
      "cell_type": "code",
      "source": [
        "df_fa.info()"
      ],
      "metadata": {
        "id": "MbyAIm3I27rO"
      },
      "execution_count": null,
      "outputs": []
    },
    {
      "cell_type": "code",
      "source": [
        "df_fi = pd.merge(df_m, df_fa, how = 'outer', on = 'CO.Fabrica')"
      ],
      "metadata": {
        "id": "8jBvpIT_xwG-"
      },
      "execution_count": 16,
      "outputs": []
    },
    {
      "cell_type": "code",
      "source": [
        "df_fi.head()"
      ],
      "metadata": {
        "colab": {
          "base_uri": "https://localhost:8080/",
          "height": 206
        },
        "id": "OvogxnGdxwcI",
        "outputId": "a46cb980-6640-4fb5-85ea-0ec2149d84fa"
      },
      "execution_count": 17,
      "outputs": [
        {
          "output_type": "execute_result",
          "data": {
            "text/plain": [
              "   Dt.Fat  Dt.Entrega Mes.Base Ano.Exec CO.Fabrica  CO.Cliente Tp.Operacao  \\\n",
              "0   44200       44209      Jan     2021    3423909        2303          VD   \n",
              "1   44214       44222      Jan     2021    3423909        2303          VD   \n",
              "2   44215       44219      Jan     2021    3423909        2303          VD   \n",
              "3   44205       44205      Jan     2021    3423909        2303          VD   \n",
              "4   44210       44219      Jan     2021    3423909        2303          VD   \n",
              "\n",
              "  Incoterm Veiculo  Qtd.Transp Moeda Vlr.Frete       MUN      LAT     LONG  \\\n",
              "0      CIF     P12        1800   BRL      6000  CAMPINAS  2292634  4703974   \n",
              "1      FOB     P12        1600   BRL         0  CAMPINAS  2292634  4703974   \n",
              "2      FOB     P12        1800   BRL         0  CAMPINAS  2292634  4703974   \n",
              "3      FOB     P12        1200   BRL         0  CAMPINAS  2292634  4703974   \n",
              "4      FOB     P12        1200   BRL         0  CAMPINAS  2292634  4703974   \n",
              "\n",
              "  NO_MUN NO_MUN_MIN SG_UF  \n",
              "0    ITU        Itu    SP  \n",
              "1    ITU        Itu    SP  \n",
              "2    ITU        Itu    SP  \n",
              "3    ITU        Itu    SP  \n",
              "4    ITU        Itu    SP  "
            ],
            "text/html": [
              "\n",
              "  <div id=\"df-e4d7639a-7c2b-4fea-8d12-70e84857d175\">\n",
              "    <div class=\"colab-df-container\">\n",
              "      <div>\n",
              "<style scoped>\n",
              "    .dataframe tbody tr th:only-of-type {\n",
              "        vertical-align: middle;\n",
              "    }\n",
              "\n",
              "    .dataframe tbody tr th {\n",
              "        vertical-align: top;\n",
              "    }\n",
              "\n",
              "    .dataframe thead th {\n",
              "        text-align: right;\n",
              "    }\n",
              "</style>\n",
              "<table border=\"1\" class=\"dataframe\">\n",
              "  <thead>\n",
              "    <tr style=\"text-align: right;\">\n",
              "      <th></th>\n",
              "      <th>Dt.Fat</th>\n",
              "      <th>Dt.Entrega</th>\n",
              "      <th>Mes.Base</th>\n",
              "      <th>Ano.Exec</th>\n",
              "      <th>CO.Fabrica</th>\n",
              "      <th>CO.Cliente</th>\n",
              "      <th>Tp.Operacao</th>\n",
              "      <th>Incoterm</th>\n",
              "      <th>Veiculo</th>\n",
              "      <th>Qtd.Transp</th>\n",
              "      <th>Moeda</th>\n",
              "      <th>Vlr.Frete</th>\n",
              "      <th>MUN</th>\n",
              "      <th>LAT</th>\n",
              "      <th>LONG</th>\n",
              "      <th>NO_MUN</th>\n",
              "      <th>NO_MUN_MIN</th>\n",
              "      <th>SG_UF</th>\n",
              "    </tr>\n",
              "  </thead>\n",
              "  <tbody>\n",
              "    <tr>\n",
              "      <th>0</th>\n",
              "      <td>44200</td>\n",
              "      <td>44209</td>\n",
              "      <td>Jan</td>\n",
              "      <td>2021</td>\n",
              "      <td>3423909</td>\n",
              "      <td>2303</td>\n",
              "      <td>VD</td>\n",
              "      <td>CIF</td>\n",
              "      <td>P12</td>\n",
              "      <td>1800</td>\n",
              "      <td>BRL</td>\n",
              "      <td>6000</td>\n",
              "      <td>CAMPINAS</td>\n",
              "      <td>2292634</td>\n",
              "      <td>4703974</td>\n",
              "      <td>ITU</td>\n",
              "      <td>Itu</td>\n",
              "      <td>SP</td>\n",
              "    </tr>\n",
              "    <tr>\n",
              "      <th>1</th>\n",
              "      <td>44214</td>\n",
              "      <td>44222</td>\n",
              "      <td>Jan</td>\n",
              "      <td>2021</td>\n",
              "      <td>3423909</td>\n",
              "      <td>2303</td>\n",
              "      <td>VD</td>\n",
              "      <td>FOB</td>\n",
              "      <td>P12</td>\n",
              "      <td>1600</td>\n",
              "      <td>BRL</td>\n",
              "      <td>0</td>\n",
              "      <td>CAMPINAS</td>\n",
              "      <td>2292634</td>\n",
              "      <td>4703974</td>\n",
              "      <td>ITU</td>\n",
              "      <td>Itu</td>\n",
              "      <td>SP</td>\n",
              "    </tr>\n",
              "    <tr>\n",
              "      <th>2</th>\n",
              "      <td>44215</td>\n",
              "      <td>44219</td>\n",
              "      <td>Jan</td>\n",
              "      <td>2021</td>\n",
              "      <td>3423909</td>\n",
              "      <td>2303</td>\n",
              "      <td>VD</td>\n",
              "      <td>FOB</td>\n",
              "      <td>P12</td>\n",
              "      <td>1800</td>\n",
              "      <td>BRL</td>\n",
              "      <td>0</td>\n",
              "      <td>CAMPINAS</td>\n",
              "      <td>2292634</td>\n",
              "      <td>4703974</td>\n",
              "      <td>ITU</td>\n",
              "      <td>Itu</td>\n",
              "      <td>SP</td>\n",
              "    </tr>\n",
              "    <tr>\n",
              "      <th>3</th>\n",
              "      <td>44205</td>\n",
              "      <td>44205</td>\n",
              "      <td>Jan</td>\n",
              "      <td>2021</td>\n",
              "      <td>3423909</td>\n",
              "      <td>2303</td>\n",
              "      <td>VD</td>\n",
              "      <td>FOB</td>\n",
              "      <td>P12</td>\n",
              "      <td>1200</td>\n",
              "      <td>BRL</td>\n",
              "      <td>0</td>\n",
              "      <td>CAMPINAS</td>\n",
              "      <td>2292634</td>\n",
              "      <td>4703974</td>\n",
              "      <td>ITU</td>\n",
              "      <td>Itu</td>\n",
              "      <td>SP</td>\n",
              "    </tr>\n",
              "    <tr>\n",
              "      <th>4</th>\n",
              "      <td>44210</td>\n",
              "      <td>44219</td>\n",
              "      <td>Jan</td>\n",
              "      <td>2021</td>\n",
              "      <td>3423909</td>\n",
              "      <td>2303</td>\n",
              "      <td>VD</td>\n",
              "      <td>FOB</td>\n",
              "      <td>P12</td>\n",
              "      <td>1200</td>\n",
              "      <td>BRL</td>\n",
              "      <td>0</td>\n",
              "      <td>CAMPINAS</td>\n",
              "      <td>2292634</td>\n",
              "      <td>4703974</td>\n",
              "      <td>ITU</td>\n",
              "      <td>Itu</td>\n",
              "      <td>SP</td>\n",
              "    </tr>\n",
              "  </tbody>\n",
              "</table>\n",
              "</div>\n",
              "      <button class=\"colab-df-convert\" onclick=\"convertToInteractive('df-e4d7639a-7c2b-4fea-8d12-70e84857d175')\"\n",
              "              title=\"Convert this dataframe to an interactive table.\"\n",
              "              style=\"display:none;\">\n",
              "        \n",
              "  <svg xmlns=\"http://www.w3.org/2000/svg\" height=\"24px\"viewBox=\"0 0 24 24\"\n",
              "       width=\"24px\">\n",
              "    <path d=\"M0 0h24v24H0V0z\" fill=\"none\"/>\n",
              "    <path d=\"M18.56 5.44l.94 2.06.94-2.06 2.06-.94-2.06-.94-.94-2.06-.94 2.06-2.06.94zm-11 1L8.5 8.5l.94-2.06 2.06-.94-2.06-.94L8.5 2.5l-.94 2.06-2.06.94zm10 10l.94 2.06.94-2.06 2.06-.94-2.06-.94-.94-2.06-.94 2.06-2.06.94z\"/><path d=\"M17.41 7.96l-1.37-1.37c-.4-.4-.92-.59-1.43-.59-.52 0-1.04.2-1.43.59L10.3 9.45l-7.72 7.72c-.78.78-.78 2.05 0 2.83L4 21.41c.39.39.9.59 1.41.59.51 0 1.02-.2 1.41-.59l7.78-7.78 2.81-2.81c.8-.78.8-2.07 0-2.86zM5.41 20L4 18.59l7.72-7.72 1.47 1.35L5.41 20z\"/>\n",
              "  </svg>\n",
              "      </button>\n",
              "      \n",
              "  <style>\n",
              "    .colab-df-container {\n",
              "      display:flex;\n",
              "      flex-wrap:wrap;\n",
              "      gap: 12px;\n",
              "    }\n",
              "\n",
              "    .colab-df-convert {\n",
              "      background-color: #E8F0FE;\n",
              "      border: none;\n",
              "      border-radius: 50%;\n",
              "      cursor: pointer;\n",
              "      display: none;\n",
              "      fill: #1967D2;\n",
              "      height: 32px;\n",
              "      padding: 0 0 0 0;\n",
              "      width: 32px;\n",
              "    }\n",
              "\n",
              "    .colab-df-convert:hover {\n",
              "      background-color: #E2EBFA;\n",
              "      box-shadow: 0px 1px 2px rgba(60, 64, 67, 0.3), 0px 1px 3px 1px rgba(60, 64, 67, 0.15);\n",
              "      fill: #174EA6;\n",
              "    }\n",
              "\n",
              "    [theme=dark] .colab-df-convert {\n",
              "      background-color: #3B4455;\n",
              "      fill: #D2E3FC;\n",
              "    }\n",
              "\n",
              "    [theme=dark] .colab-df-convert:hover {\n",
              "      background-color: #434B5C;\n",
              "      box-shadow: 0px 1px 3px 1px rgba(0, 0, 0, 0.15);\n",
              "      filter: drop-shadow(0px 1px 2px rgba(0, 0, 0, 0.3));\n",
              "      fill: #FFFFFF;\n",
              "    }\n",
              "  </style>\n",
              "\n",
              "      <script>\n",
              "        const buttonEl =\n",
              "          document.querySelector('#df-e4d7639a-7c2b-4fea-8d12-70e84857d175 button.colab-df-convert');\n",
              "        buttonEl.style.display =\n",
              "          google.colab.kernel.accessAllowed ? 'block' : 'none';\n",
              "\n",
              "        async function convertToInteractive(key) {\n",
              "          const element = document.querySelector('#df-e4d7639a-7c2b-4fea-8d12-70e84857d175');\n",
              "          const dataTable =\n",
              "            await google.colab.kernel.invokeFunction('convertToInteractive',\n",
              "                                                     [key], {});\n",
              "          if (!dataTable) return;\n",
              "\n",
              "          const docLinkHtml = 'Like what you see? Visit the ' +\n",
              "            '<a target=\"_blank\" href=https://colab.research.google.com/notebooks/data_table.ipynb>data table notebook</a>'\n",
              "            + ' to learn more about interactive tables.';\n",
              "          element.innerHTML = '';\n",
              "          dataTable['output_type'] = 'display_data';\n",
              "          await google.colab.output.renderOutput(dataTable, element);\n",
              "          const docLink = document.createElement('div');\n",
              "          docLink.innerHTML = docLinkHtml;\n",
              "          element.appendChild(docLink);\n",
              "        }\n",
              "      </script>\n",
              "    </div>\n",
              "  </div>\n",
              "  "
            ]
          },
          "metadata": {},
          "execution_count": 17
        }
      ]
    },
    {
      "cell_type": "code",
      "source": [
        "df_fa.info()"
      ],
      "metadata": {
        "id": "0MRUTJdX1srq"
      },
      "execution_count": null,
      "outputs": []
    },
    {
      "cell_type": "code",
      "source": [
        "df.groupby(\"Ano.Exec\").size()\n",
        "\n"
      ],
      "metadata": {
        "id": "ot0veeMQhYOi"
      },
      "execution_count": null,
      "outputs": []
    },
    {
      "cell_type": "code",
      "source": [
        "df_fi()"
      ],
      "metadata": {
        "id": "lurvpDkP4-j3"
      },
      "execution_count": null,
      "outputs": []
    },
    {
      "cell_type": "code",
      "source": [
        "\n",
        "lista_valida = ['2019', '2020', '2021']\n",
        "valores_invalidos = [valor for valor in df['Ano.Exec'] if valor not in lista_valida]\n",
        "# Mostra os valores inválidos na tela\n",
        "if valores_invalidos:\n",
        "    print(\"Os seguintes valores não são válidos: {', '.join(valores_invalidos)}\")\n",
        "else:\n",
        "    print('Todos os valores da coluna estão na lista válida.')\n",
        "\n"
      ],
      "metadata": {
        "id": "V3twuHblysLf"
      },
      "execution_count": null,
      "outputs": []
    },
    {
      "cell_type": "code",
      "source": [
        "# Cria um novo DataFrame apenas com os valores inválidos\n",
        "df_erros = df.loc[df['Ano.Exec'].isin(valores_invalidos)]\n",
        "\n",
        "# Exporta o DataFrame de erros para um arquivo Excel separado\n",
        "df_erros.to_excel('Erros_Ano.xlsx', index=False)"
      ],
      "metadata": {
        "id": "jKCjHx1kYdxW"
      },
      "execution_count": null,
      "outputs": []
    },
    {
      "cell_type": "code",
      "source": [
        "import matplotlib.pyplot as plt"
      ],
      "metadata": {
        "id": "ZZIdI5-Qagkv"
      },
      "execution_count": null,
      "outputs": []
    },
    {
      "cell_type": "code",
      "source": [
        "df.groupby(\"Mes.Base\").size()\n",
        "\n"
      ],
      "metadata": {
        "id": "7-5WbpwOhg3O"
      },
      "execution_count": null,
      "outputs": []
    },
    {
      "cell_type": "code",
      "source": [
        "# Soma dos valores encontrados na planilha \n",
        "df.groupby(\"CO.Fabrica\").size()"
      ],
      "metadata": {
        "colab": {
          "base_uri": "https://localhost:8080/"
        },
        "id": "bApJmQYZ1pOa",
        "outputId": "52e809ab-79c8-41b0-82f2-b8525d31ce8f"
      },
      "execution_count": 91,
      "outputs": [
        {
          "output_type": "execute_result",
          "data": {
            "text/plain": [
              "CO.Fabrica\n",
              "3403208    39786\n",
              "3423909    39828\n",
              "3424402    40373\n",
              "????           4\n",
              "dtype: int64"
            ]
          },
          "metadata": {},
          "execution_count": 91
        }
      ]
    },
    {
      "cell_type": "code",
      "source": [
        "#Exportação dos erros da planilha\n",
        "if pd.to_numeric(df['CO.Fabrica'], errors='coerce').notnull().all():\n",
        "    print('Todos os valores são numéricos.')\n",
        "else:\n",
        "    print('Existem valores não numéricos na coluna.')\n",
        "\n",
        "#Cria um novo DataFrame apenas com os valores inválidos\n",
        "df_erros = df.loc[df['CO.Fabrica'].isin(valores_invalidos)]\n",
        "\n",
        "# Exporta o DataFrame de erros para um arquivo Excel separado\n",
        "df_erros.to_excel('erros_fabricas.xlsx', index=False)"
      ],
      "metadata": {
        "colab": {
          "base_uri": "https://localhost:8080/"
        },
        "id": "tyWe1_Ny2yuk",
        "outputId": "33766d51-c006-4c85-e7d3-a1bd4f44ca52"
      },
      "execution_count": 92,
      "outputs": [
        {
          "output_type": "stream",
          "name": "stdout",
          "text": [
            "Existem valores não numéricos na coluna.\n"
          ]
        }
      ]
    },
    {
      "cell_type": "code",
      "source": [
        "df.groupby(\"CO.Cliente\").size()\n"
      ],
      "metadata": {
        "id": "WoIYOI0V3F6N"
      },
      "execution_count": null,
      "outputs": []
    },
    {
      "cell_type": "code",
      "source": [
        "#Inconsistencias_na_moeda\n",
        "df.groupby(\"Moeda\").size()"
      ],
      "metadata": {
        "colab": {
          "base_uri": "https://localhost:8080/"
        },
        "id": "guGRR-q0BJUo",
        "outputId": "e0af36c0-ee03-4025-e470-e560c927a50d"
      },
      "execution_count": null,
      "outputs": [
        {
          "output_type": "execute_result",
          "data": {
            "text/plain": [
              "Moeda\n",
              "???         3\n",
              "BR          2\n",
              "BRL    119992\n",
              "dtype: int64"
            ]
          },
          "metadata": {},
          "execution_count": 120
        }
      ]
    },
    {
      "cell_type": "code",
      "source": [
        "\n",
        "df.query('`CO.Fabrica` == \"2303\"').groupby('Qtd.Transp').size()\n"
      ],
      "metadata": {
        "colab": {
          "base_uri": "https://localhost:8080/"
        },
        "id": "JQ7N1GFYblAY",
        "outputId": "bbe89925-a918-4432-ffca-527665ef0229"
      },
      "execution_count": 94,
      "outputs": [
        {
          "output_type": "execute_result",
          "data": {
            "text/plain": [
              "Series([], dtype: int64)"
            ]
          },
          "metadata": {},
          "execution_count": 94
        }
      ]
    },
    {
      "cell_type": "code",
      "source": [
        "#Analise_das_datas_de_faturamento_e_entrega\n",
        "df['Result'] = df['Dt.Fat'] .sub (df['Dt.Entrega'])\n",
        "\n",
        "print(df[['Dt.Fat', 'Dt.Entrega', 'Result']])\n",
        "\n",
        "df_negativo = df[df['Result'] < 0]\n",
        "\n",
        "# Exporta as linhas filtradas em um arquivo Excel\n",
        "df_negativo.to_excel('resultados_negativos.xlsx', index=False)"
      ],
      "metadata": {
        "id": "BP6ixET41M-O",
        "colab": {
          "base_uri": "https://localhost:8080/"
        },
        "outputId": "1b1f1649-4326-47cb-9c65-95690c213f29"
      },
      "execution_count": 95,
      "outputs": [
        {
          "output_type": "stream",
          "name": "stdout",
          "text": [
            "        Dt.Fat  Dt.Entrega  Result\n",
            "0        44200       44209      -9\n",
            "1        44210       44218      -8\n",
            "2        44211       44210       1\n",
            "3        44211       44216      -5\n",
            "4        44212       44219      -7\n",
            "...        ...         ...     ...\n",
            "119995   44537       44540      -3\n",
            "119996   44537       44542      -5\n",
            "119997   44536       44546     -10\n",
            "119998   44545       44545       0\n",
            "119999   44544       44546      -2\n",
            "\n",
            "[120000 rows x 3 columns]\n"
          ]
        }
      ]
    },
    {
      "cell_type": "code",
      "source": [
        "\n",
        "lista_valida = ['Jan', 'Fev', 'Mar','Abr', 'Mai', 'Jun', 'Jul', 'Ago', 'Set', 'Out', 'Nov', 'Dez']\n",
        "valores_invalidos = [valor for valor in df['Mes.Base'] if valor not in lista_valida]\n",
        "# Mostra os valores inválidos na tela\n",
        "if valores_invalidos:\n",
        "    print(f\"Os seguintes valores não são válidos: {', '.join(valores_invalidos)}\")\n",
        "else:\n",
        "    print('Todos os valores da coluna estão na lista válida.')\n",
        "\n",
        "# Cria um novo DataFrame apenas com os valores inválidos\n",
        "df_erros = df.loc[df['Mes.Base'].isin(valores_invalidos)]\n",
        "\n",
        "# Exporta o DataFrame de erros para um arquivo Excel separado\n",
        "df_erros.to_excel('erros.xlsx', index=False)"
      ],
      "metadata": {
        "colab": {
          "base_uri": "https://localhost:8080/"
        },
        "id": "fTtQiCD6vA-k",
        "outputId": "43242f1b-a12f-4db3-b3c1-2427ff2469d1"
      },
      "execution_count": null,
      "outputs": [
        {
          "output_type": "stream",
          "name": "stdout",
          "text": [
            "Os seguintes valores não são válidos: 4, 4, 5, 11, 11\n"
          ]
        }
      ]
    },
    {
      "cell_type": "code",
      "source": [
        "import pandas as pd\n",
        "import matplotlib.pyplot as plt"
      ],
      "metadata": {
        "id": "7OUn0DfiIena"
      },
      "execution_count": null,
      "outputs": []
    },
    {
      "cell_type": "code",
      "source": [
        "coluna1 = df['Tp.Operacao']\n",
        "coluna2 = df['Qtd.Transp']\n",
        "plt.bar(coluna1, coluna2)\n",
        "\n",
        "plt.title(\"Vendas e Devoluções Efetuadas\")\n",
        "plt.xlabel(\"Tipo de Operação\")\n",
        "plt.ylabel(\"Quatiddade Transportada\")\n",
        "\n",
        "plt.show()"
      ],
      "metadata": {
        "id": "qV9Q-96DSxdH"
      },
      "execution_count": null,
      "outputs": []
    },
    {
      "cell_type": "code",
      "source": [
        "import matplotlib.pyplot as plt\n",
        "\n",
        "# Dados\n",
        "vendas = [100, 150, 200, 120, 90]\n",
        "devolucoes = [10, 20, 30, 40, 20]\n",
        "meses = ['Jan', 'Fev', 'Mar', 'Abr', 'Mai']\n",
        "\n",
        "# Criando o gráfico de barras empilhadas\n",
        "fig, ax = plt.subplots()\n",
        "ax.bar(meses, vendas, label='Vendas')\n",
        "ax.bar(meses, devolucoes, bottom=vendas, label='Devoluções')\n",
        "\n",
        "# Adicionando título e legendas\n",
        "ax.set_title('Vendas e Devoluções de Peças')\n",
        "ax.legend()\n",
        "\n",
        "# Exibindo o gráfico\n",
        "plt.show()"
      ],
      "metadata": {
        "id": "Cih0VlgKrM40",
        "colab": {
          "base_uri": "https://localhost:8080/",
          "height": 452
        },
        "outputId": "2baae571-9542-40b2-ada0-e713680bfee3"
      },
      "execution_count": 19,
      "outputs": [
        {
          "output_type": "display_data",
          "data": {
            "text/plain": [
              "<Figure size 640x480 with 1 Axes>"
            ],
            "image/png": "[encoded data removed]"
          },
          "metadata": {}
        }
      ]
    },
    {
      "cell_type": "code",
      "source": [
        "import matplotlib.pyplot as plt\n",
        "\n",
        "rota_1 = [(10, 20), (30, 40), (50, 60)]\n",
        "rota_2 = [(15, 25), (35, 45), (55, 65)]\n",
        "rota_3 = [(20, 30), (40, 50), (60, 70)]\n",
        "\n",
        "plt.scatter(*zip(*rota_1), label='Rota 1')\n",
        "plt.scatter(*zip(*rota_2), label='Rota 2')\n",
        "plt.scatter(*zip(*rota_3), label='Rota 3')\n",
        "plt.xlabel('Longitude')\n",
        "plt.ylabel('Latitude')\n",
        "plt.title('Localização das Entregas por Rota')\n",
        "plt.legend()\n",
        "plt.show()"
      ],
      "metadata": {
        "id": "4NwRWulXsEq7"
      },
      "execution_count": null,
      "outputs": []
    },
    {
      "cell_type": "code",
      "source": [
        "import matplotlib.pyplot as plt\n",
        "\n",
        "rotas = ['Rota 1', 'Rota 2', 'Rota 3', 'Rota 4']\n",
        "entregas_semana_1 = [15, 25, 10, 30]\n",
        "entregas_semana_2 = [20, 30, 15, 35]\n",
        "\n",
        "plt.plot(rotas, entregas_semana_1, label='Semana 1')\n",
        "plt.plot(rotas, entregas_semana_2, label='Semana 2')\n",
        "plt.xlabel('Rotas')\n",
        "plt.ylabel('Quantidade de Entregas')\n",
        "plt.title('Evolução da Quantidade de Entregas por Rota')\n",
        "plt.legend()\n",
        "plt.show()"
      ],
      "metadata": {
        "id": "Tol7VF7ZsMQl"
      },
      "execution_count": null,
      "outputs": []
    },
    {
      "cell_type": "code",
      "source": [
        "import matplotlib.pyplot as plt\n",
        "\n",
        "rotas = ['Rota 1', 'Rota 2', 'Rota 3', 'Rota 4']\n",
        "entregas = [15, 25, 10, 30]\n",
        "\n",
        "plt.pie(entregas, labels=rotas, autopct='%1.1f%%')\n",
        "plt.title('Proporção de Entregas por Rota')\n",
        "plt.show()"
      ],
      "metadata": {
        "id": "TFNBfofXsTIz"
      },
      "execution_count": null,
      "outputs": []
    },
    {
      "cell_type": "code",
      "source": [
        "import pandas as pd"
      ],
      "metadata": {
        "id": "7lzUX6UJdMmm"
      },
      "execution_count": null,
      "outputs": []
    },
    {
      "cell_type": "code",
      "source": [
        "import plotly.graph_objs as go"
      ],
      "metadata": {
        "id": "Ez4hclbDfBQQ"
      },
      "execution_count": null,
      "outputs": []
    },
    {
      "cell_type": "code",
      "source": [
        "import dash"
      ],
      "metadata": {
        "id": "wp9KSPt2fLlX"
      },
      "execution_count": null,
      "outputs": []
    },
    {
      "cell_type": "code",
      "source": [
        "import dash_core_components as dcc"
      ],
      "metadata": {
        "id": "ii-yHm5NfRve"
      },
      "execution_count": null,
      "outputs": []
    },
    {
      "cell_type": "code",
      "source": [
        "import matplotlib.pyplot as plt\n",
        "\n",
        "veiculo_a = [1000, 1200, 1500, 1300, 1400, 1600, 1700, 1800, 2000, 2200, 2300, 2400]\n",
        "veiculo_b = [800, 900, 1000, 1100, 1200, 1300, 1400, 1500, 1600, 1700, 1800, 1900]\n",
        "\n",
        "plt.plot(veiculo_a, label='Veículo A')\n",
        "plt.plot(veiculo_b, label='Veículo B')\n",
        "plt.legend()\n",
        "plt.title('Valores de frete por mês para dois veículos')\n",
        "plt.xlabel('Mês')\n",
        "plt.ylabel('Valor de frete')\n",
        "plt.show()"
      ],
      "metadata": {
        "colab": {
          "base_uri": "https://localhost:8080/",
          "height": 472
        },
        "id": "Qmv5Jvro6RHq",
        "outputId": "0dda24e4-9e42-4edb-90cc-5122f3e50733"
      },
      "execution_count": 18,
      "outputs": [
        {
          "output_type": "display_data",
          "data": {
            "text/plain": [
              "<Figure size 640x480 with 1 Axes>"
            ],
            "image/png": "[encoded data removed]"
          },
          "metadata": {}
        }
      ]
    }
  ],
  "metadata": {
    "colab": {
      "provenance": [],
      "include_colab_link": true
    },
    "kernelspec": {
      "display_name": "Python 3",
      "name": "python3"
    }
  },
  "nbformat": 4,
  "nbformat_minor": 0
}