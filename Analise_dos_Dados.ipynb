{
  "cells": [
    {
      "cell_type": "markdown",
      "metadata": {
        "id": "view-in-github",
        "colab_type": "text"
      },
      "source": [
        "<a href=\"https://colab.research.google.com/github/Brudeoli17/Projeto-Marcus/blob/main/Analise_dos_Dados.ipynb\" target=\"_parent\"><img src=\"https://colab.research.google.com/assets/colab-badge.svg\" alt=\"Open In Colab\"/></a>"
      ]
    },
    {
      "cell_type": "markdown",
      "source": [],
      "metadata": {
        "id": "OeeASVKilsK1"
      }
    },
    {
      "cell_type": "code",
      "source": [
        "import pandas as pd\n",
        "import numpy as np \n"
      ],
      "metadata": {
        "id": "W0l-Qm0HUwlF"
      },
      "execution_count": 9,
      "outputs": []
    },
    {
      "cell_type": "code",
      "source": [
        "from google.colab import drive"
      ],
      "metadata": {
        "id": "JVUleQxKXOEo"
      },
      "execution_count": 10,
      "outputs": []
    },
    {
      "cell_type": "code",
      "source": [
        "drive.mount('/content/drive')\n",
        "df = pd.read_csv('/content/drive/MyDrive/Data/Rotas.csv', low_memory=False, sep=';', encoding='UTF-8')"
      ],
      "metadata": {
        "id": "t1fLCHY0YbGR",
        "colab": {
          "base_uri": "https://localhost:8080/"
        },
        "outputId": "66168e4f-e6b7-4238-d588-2351eb5b5e62"
      },
      "execution_count": 24,
      "outputs": [
        {
          "output_type": "stream",
          "name": "stdout",
          "text": [
            "Drive already mounted at /content/drive; to attempt to forcibly remount, call drive.mount(\"/content/drive\", force_remount=True).\n"
          ]
        }
      ]
    },
    {
      "cell_type": "code",
      "source": [
        "df.head(5)"
      ],
      "metadata": {
        "id": "g9y-4hzBbdYQ",
        "colab": {
          "base_uri": "https://localhost:8080/",
          "height": 206
        },
        "outputId": "eb0defcc-848f-4a17-d100-b958118eba41"
      },
      "execution_count": null,
      "outputs": [
        {
          "output_type": "execute_result",
          "data": {
            "text/plain": [
              "   Dt.Fat  Dt.Entrega Mes.Base Ano.Exec CO.Fabrica  CO.Cliente Tp.Operacao  \\\n",
              "0   44200       44209      Jan     2021    3423909        2303          VD   \n",
              "1   44210       44218      Jan     2021    3403208        2302          VD   \n",
              "2   44211       44210      Jan     2021    3423909        2313          VD   \n",
              "3   44211       44216      Jan     2021    3424402        2314          VD   \n",
              "4   44212       44219      Jan     2021    3403208        2317          VD   \n",
              "\n",
              "  Incoterm Veiculo  Qtd.Transp Moeda Vlr.Frete  \n",
              "0      CIF     P12        1800   BRL      6000  \n",
              "1      FOB     P12        1600   BRL         0  \n",
              "2      CIF     P12        1600   BRL      5780  \n",
              "3      FOB     P12        1600   BRL         0  \n",
              "4      CIF     P12        1800   BRL      3809  "
            ],
            "text/html": [
              "\n",
              "  <div id=\"df-7c610002-785f-42f4-acaf-67c18f3f1995\">\n",
              "    <div class=\"colab-df-container\">\n",
              "      <div>\n",
              "<style scoped>\n",
              "    .dataframe tbody tr th:only-of-type {\n",
              "        vertical-align: middle;\n",
              "    }\n",
              "\n",
              "    .dataframe tbody tr th {\n",
              "        vertical-align: top;\n",
              "    }\n",
              "\n",
              "    .dataframe thead th {\n",
              "        text-align: right;\n",
              "    }\n",
              "</style>\n",
              "<table border=\"1\" class=\"dataframe\">\n",
              "  <thead>\n",
              "    <tr style=\"text-align: right;\">\n",
              "      <th></th>\n",
              "      <th>Dt.Fat</th>\n",
              "      <th>Dt.Entrega</th>\n",
              "      <th>Mes.Base</th>\n",
              "      <th>Ano.Exec</th>\n",
              "      <th>CO.Fabrica</th>\n",
              "      <th>CO.Cliente</th>\n",
              "      <th>Tp.Operacao</th>\n",
              "      <th>Incoterm</th>\n",
              "      <th>Veiculo</th>\n",
              "      <th>Qtd.Transp</th>\n",
              "      <th>Moeda</th>\n",
              "      <th>Vlr.Frete</th>\n",
              "    </tr>\n",
              "  </thead>\n",
              "  <tbody>\n",
              "    <tr>\n",
              "      <th>0</th>\n",
              "      <td>44200</td>\n",
              "      <td>44209</td>\n",
              "      <td>Jan</td>\n",
              "      <td>2021</td>\n",
              "      <td>3423909</td>\n",
              "      <td>2303</td>\n",
              "      <td>VD</td>\n",
              "      <td>CIF</td>\n",
              "      <td>P12</td>\n",
              "      <td>1800</td>\n",
              "      <td>BRL</td>\n",
              "      <td>6000</td>\n",
              "    </tr>\n",
              "    <tr>\n",
              "      <th>1</th>\n",
              "      <td>44210</td>\n",
              "      <td>44218</td>\n",
              "      <td>Jan</td>\n",
              "      <td>2021</td>\n",
              "      <td>3403208</td>\n",
              "      <td>2302</td>\n",
              "      <td>VD</td>\n",
              "      <td>FOB</td>\n",
              "      <td>P12</td>\n",
              "      <td>1600</td>\n",
              "      <td>BRL</td>\n",
              "      <td>0</td>\n",
              "    </tr>\n",
              "    <tr>\n",
              "      <th>2</th>\n",
              "      <td>44211</td>\n",
              "      <td>44210</td>\n",
              "      <td>Jan</td>\n",
              "      <td>2021</td>\n",
              "      <td>3423909</td>\n",
              "      <td>2313</td>\n",
              "      <td>VD</td>\n",
              "      <td>CIF</td>\n",
              "      <td>P12</td>\n",
              "      <td>1600</td>\n",
              "      <td>BRL</td>\n",
              "      <td>5780</td>\n",
              "    </tr>\n",
              "    <tr>\n",
              "      <th>3</th>\n",
              "      <td>44211</td>\n",
              "      <td>44216</td>\n",
              "      <td>Jan</td>\n",
              "      <td>2021</td>\n",
              "      <td>3424402</td>\n",
              "      <td>2314</td>\n",
              "      <td>VD</td>\n",
              "      <td>FOB</td>\n",
              "      <td>P12</td>\n",
              "      <td>1600</td>\n",
              "      <td>BRL</td>\n",
              "      <td>0</td>\n",
              "    </tr>\n",
              "    <tr>\n",
              "      <th>4</th>\n",
              "      <td>44212</td>\n",
              "      <td>44219</td>\n",
              "      <td>Jan</td>\n",
              "      <td>2021</td>\n",
              "      <td>3403208</td>\n",
              "      <td>2317</td>\n",
              "      <td>VD</td>\n",
              "      <td>CIF</td>\n",
              "      <td>P12</td>\n",
              "      <td>1800</td>\n",
              "      <td>BRL</td>\n",
              "      <td>3809</td>\n",
              "    </tr>\n",
              "  </tbody>\n",
              "</table>\n",
              "</div>\n",
              "      <button class=\"colab-df-convert\" onclick=\"convertToInteractive('df-7c610002-785f-42f4-acaf-67c18f3f1995')\"\n",
              "              title=\"Convert this dataframe to an interactive table.\"\n",
              "              style=\"display:none;\">\n",
              "        \n",
              "  <svg xmlns=\"http://www.w3.org/2000/svg\" height=\"24px\"viewBox=\"0 0 24 24\"\n",
              "       width=\"24px\">\n",
              "    <path d=\"M0 0h24v24H0V0z\" fill=\"none\"/>\n",
              "    <path d=\"M18.56 5.44l.94 2.06.94-2.06 2.06-.94-2.06-.94-.94-2.06-.94 2.06-2.06.94zm-11 1L8.5 8.5l.94-2.06 2.06-.94-2.06-.94L8.5 2.5l-.94 2.06-2.06.94zm10 10l.94 2.06.94-2.06 2.06-.94-2.06-.94-.94-2.06-.94 2.06-2.06.94z\"/><path d=\"M17.41 7.96l-1.37-1.37c-.4-.4-.92-.59-1.43-.59-.52 0-1.04.2-1.43.59L10.3 9.45l-7.72 7.72c-.78.78-.78 2.05 0 2.83L4 21.41c.39.39.9.59 1.41.59.51 0 1.02-.2 1.41-.59l7.78-7.78 2.81-2.81c.8-.78.8-2.07 0-2.86zM5.41 20L4 18.59l7.72-7.72 1.47 1.35L5.41 20z\"/>\n",
              "  </svg>\n",
              "      </button>\n",
              "      \n",
              "  <style>\n",
              "    .colab-df-container {\n",
              "      display:flex;\n",
              "      flex-wrap:wrap;\n",
              "      gap: 12px;\n",
              "    }\n",
              "\n",
              "    .colab-df-convert {\n",
              "      background-color: #E8F0FE;\n",
              "      border: none;\n",
              "      border-radius: 50%;\n",
              "      cursor: pointer;\n",
              "      display: none;\n",
              "      fill: #1967D2;\n",
              "      height: 32px;\n",
              "      padding: 0 0 0 0;\n",
              "      width: 32px;\n",
              "    }\n",
              "\n",
              "    .colab-df-convert:hover {\n",
              "      background-color: #E2EBFA;\n",
              "      box-shadow: 0px 1px 2px rgba(60, 64, 67, 0.3), 0px 1px 3px 1px rgba(60, 64, 67, 0.15);\n",
              "      fill: #174EA6;\n",
              "    }\n",
              "\n",
              "    [theme=dark] .colab-df-convert {\n",
              "      background-color: #3B4455;\n",
              "      fill: #D2E3FC;\n",
              "    }\n",
              "\n",
              "    [theme=dark] .colab-df-convert:hover {\n",
              "      background-color: #434B5C;\n",
              "      box-shadow: 0px 1px 3px 1px rgba(0, 0, 0, 0.15);\n",
              "      filter: drop-shadow(0px 1px 2px rgba(0, 0, 0, 0.3));\n",
              "      fill: #FFFFFF;\n",
              "    }\n",
              "  </style>\n",
              "\n",
              "      <script>\n",
              "        const buttonEl =\n",
              "          document.querySelector('#df-7c610002-785f-42f4-acaf-67c18f3f1995 button.colab-df-convert');\n",
              "        buttonEl.style.display =\n",
              "          google.colab.kernel.accessAllowed ? 'block' : 'none';\n",
              "\n",
              "        async function convertToInteractive(key) {\n",
              "          const element = document.querySelector('#df-7c610002-785f-42f4-acaf-67c18f3f1995');\n",
              "          const dataTable =\n",
              "            await google.colab.kernel.invokeFunction('convertToInteractive',\n",
              "                                                     [key], {});\n",
              "          if (!dataTable) return;\n",
              "\n",
              "          const docLinkHtml = 'Like what you see? Visit the ' +\n",
              "            '<a target=\"_blank\" href=https://colab.research.google.com/notebooks/data_table.ipynb>data table notebook</a>'\n",
              "            + ' to learn more about interactive tables.';\n",
              "          element.innerHTML = '';\n",
              "          dataTable['output_type'] = 'display_data';\n",
              "          await google.colab.output.renderOutput(dataTable, element);\n",
              "          const docLink = document.createElement('div');\n",
              "          docLink.innerHTML = docLinkHtml;\n",
              "          element.appendChild(docLink);\n",
              "        }\n",
              "      </script>\n",
              "    </div>\n",
              "  </div>\n",
              "  "
            ]
          },
          "metadata": {},
          "execution_count": 8
        }
      ]
    },
    {
      "cell_type": "code",
      "source": [
        "df.groupby(\"Ano.Exec\").size()\n",
        "\n"
      ],
      "metadata": {
        "id": "ot0veeMQhYOi"
      },
      "execution_count": null,
      "outputs": []
    },
    {
      "cell_type": "code",
      "source": [
        "\n",
        "lista_valida = ['2019', '2020', '2021']\n",
        "valores_invalidos = [valor for valor in df['Ano.Exec'] if valor not in lista_valida]\n",
        "# Mostra os valores inválidos na tela\n",
        "if valores_invalidos:\n",
        "    print(f\"Os seguintes valores não são válidos: {', '.join(valores_invalidos)}\")\n",
        "else:\n",
        "    print('Todos os valores da coluna estão na lista válida.')\n",
        "\n",
        "# Cria um novo DataFrame apenas com os valores inválidos\n",
        "df_erros = df.loc[df['Ano.Exec'].isin(valores_invalidos)]\n",
        "\n",
        "# Exporta o DataFrame de erros para um arquivo Excel separado\n",
        "df_erros.to_excel('Erros_Ano.xlsx', index=False)"
      ],
      "metadata": {
        "colab": {
          "base_uri": "https://localhost:8080/",
          "height": 235
        },
        "outputId": "094eb2b4-53fa-4f4e-b75a-9c23690fb300",
        "id": "V3twuHblysLf"
      },
      "execution_count": 25,
      "outputs": [
        {
          "output_type": "error",
          "ename": "TypeError",
          "evalue": "ignored",
          "traceback": [
            "\u001b[0;31m---------------------------------------------------------------------------\u001b[0m",
            "\u001b[0;31mTypeError\u001b[0m                                 Traceback (most recent call last)",
            "\u001b[0;32m<ipython-input-25-639c70ac044f>\u001b[0m in \u001b[0;36m<cell line: 4>\u001b[0;34m()\u001b[0m\n\u001b[1;32m      3\u001b[0m \u001b[0;31m# Mostra os valores inválidos na tela\u001b[0m\u001b[0;34m\u001b[0m\u001b[0;34m\u001b[0m\u001b[0m\n\u001b[1;32m      4\u001b[0m \u001b[0;32mif\u001b[0m \u001b[0mvalores_invalidos\u001b[0m\u001b[0;34m:\u001b[0m\u001b[0;34m\u001b[0m\u001b[0;34m\u001b[0m\u001b[0m\n\u001b[0;32m----> 5\u001b[0;31m     \u001b[0mprint\u001b[0m\u001b[0;34m(\u001b[0m\u001b[0;34mf\"Os seguintes valores não são válidos: {', '.join(valores_invalidos)}\"\u001b[0m\u001b[0;34m)\u001b[0m\u001b[0;34m\u001b[0m\u001b[0;34m\u001b[0m\u001b[0m\n\u001b[0m\u001b[1;32m      6\u001b[0m \u001b[0;32melse\u001b[0m\u001b[0;34m:\u001b[0m\u001b[0;34m\u001b[0m\u001b[0;34m\u001b[0m\u001b[0m\n\u001b[1;32m      7\u001b[0m     \u001b[0mprint\u001b[0m\u001b[0;34m(\u001b[0m\u001b[0;34m'Todos os valores da coluna estão na lista válida.'\u001b[0m\u001b[0;34m)\u001b[0m\u001b[0;34m\u001b[0m\u001b[0;34m\u001b[0m\u001b[0m\n",
            "\u001b[0;31mTypeError\u001b[0m: sequence item 0: expected str instance, float found"
          ]
        }
      ]
    },
    {
      "cell_type": "code",
      "source": [
        "df.groupby(\"Mes.Base\").size()\n",
        "\n"
      ],
      "metadata": {
        "id": "7-5WbpwOhg3O"
      },
      "execution_count": null,
      "outputs": []
    },
    {
      "cell_type": "code",
      "source": [
        "# Soma dos valores encontrados na planilha \n",
        "df.groupby(\"CO.Fabrica\").size()"
      ],
      "metadata": {
        "colab": {
          "base_uri": "https://localhost:8080/"
        },
        "id": "bApJmQYZ1pOa",
        "outputId": "f355d498-d2d3-4775-aa14-a393b32e0652"
      },
      "execution_count": 29,
      "outputs": [
        {
          "output_type": "execute_result",
          "data": {
            "text/plain": [
              "CO.Fabrica\n",
              "3403208    39786\n",
              "3423909    39828\n",
              "3424402    40373\n",
              "????           4\n",
              "dtype: int64"
            ]
          },
          "metadata": {},
          "execution_count": 29
        }
      ]
    },
    {
      "cell_type": "code",
      "source": [
        "#Exportação dos erros da planilha\n",
        "if pd.to_numeric(df['CO.Fabrica'], errors='coerce').notnull().all():\n",
        "    print('Todos os valores são numéricos.')\n",
        "else:\n",
        "    print('Existem valores não numéricos na coluna.')\n",
        "\n",
        "#Cria um novo DataFrame apenas com os valores inválidos\n",
        "df_erros = df.loc[df['CO.Fabrica'].isin(valores_invalidos)]\n",
        "\n",
        "# Exporta o DataFrame de erros para um arquivo Excel separado\n",
        "df_erros.to_excel('erros_fabricas.xlsx', index=False)"
      ],
      "metadata": {
        "colab": {
          "base_uri": "https://localhost:8080/"
        },
        "id": "tyWe1_Ny2yuk",
        "outputId": "00af000b-09f0-4cb9-fc7a-3e7621130148"
      },
      "execution_count": 28,
      "outputs": [
        {
          "output_type": "stream",
          "name": "stdout",
          "text": [
            "Existem valores não numéricos na coluna.\n"
          ]
        }
      ]
    },
    {
      "cell_type": "markdown",
      "source": [],
      "metadata": {
        "id": "P47-T1Sb8kt3"
      }
    },
    {
      "cell_type": "code",
      "source": [
        "df.groupby(\"CO.Cliente\").size()\n"
      ],
      "metadata": {
        "id": "WoIYOI0V3F6N"
      },
      "execution_count": null,
      "outputs": []
    },
    {
      "cell_type": "code",
      "source": [
        "#Inconsistencias_na_moeda\n",
        "df.groupby(\"Moeda\").size()"
      ],
      "metadata": {
        "colab": {
          "base_uri": "https://localhost:8080/"
        },
        "id": "guGRR-q0BJUo",
        "outputId": "e0af36c0-ee03-4025-e470-e560c927a50d"
      },
      "execution_count": null,
      "outputs": [
        {
          "output_type": "execute_result",
          "data": {
            "text/plain": [
              "Moeda\n",
              "???         3\n",
              "BR          2\n",
              "BRL    119992\n",
              "dtype: int64"
            ]
          },
          "metadata": {},
          "execution_count": 120
        }
      ]
    },
    {
      "cell_type": "code",
      "source": [
        "\n",
        "df.query('`CO.Fabrica` == \"2303\"').groupby('Qtd.Transp').size()\n"
      ],
      "metadata": {
        "colab": {
          "base_uri": "https://localhost:8080/"
        },
        "id": "JQ7N1GFYblAY",
        "outputId": "c910ae69-8180-447e-9d12-e06b09fee491"
      },
      "execution_count": null,
      "outputs": [
        {
          "output_type": "execute_result",
          "data": {
            "text/plain": [
              "Series([], dtype: int64)"
            ]
          },
          "metadata": {},
          "execution_count": 139
        }
      ]
    },
    {
      "cell_type": "code",
      "source": [
        "#Analise_das_datas_de_faturamento_e_entrega\n",
        "df['Result'] = df ['Dt.Fat'] .sub (df ['Dt.Entrega'])\n",
        "print(df[['Dt.Fat', 'Dt.Entrega', 'Result']])\n",
        "\n",
        "df_negativo = df[df['Result'] < 0]\n",
        "\n",
        "# Exporta as linhas filtradas em um arquivo Excel\n",
        "df_negativo.to_excel('resultados_negativos.xlsx', index=False)"
      ],
      "metadata": {
        "id": "BP6ixET41M-O"
      },
      "execution_count": null,
      "outputs": []
    },
    {
      "cell_type": "code",
      "source": [
        "\n",
        "lista_valida = ['Jan', 'Fev', 'Mar','Abr', 'Mai', 'Jun', 'Jul', 'Ago', 'Set', 'Out', 'Nov', 'Dez']\n",
        "valores_invalidos = [valor for valor in df['Mes.Base'] if valor not in lista_valida]\n",
        "# Mostra os valores inválidos na tela\n",
        "if valores_invalidos:\n",
        "    print(f\"Os seguintes valores não são válidos: {', '.join(valores_invalidos)}\")\n",
        "else:\n",
        "    print('Todos os valores da coluna estão na lista válida.')\n",
        "\n",
        "# Cria um novo DataFrame apenas com os valores inválidos\n",
        "df_erros = df.loc[df['Mes.Base'].isin(valores_invalidos)]\n",
        "\n",
        "# Exporta o DataFrame de erros para um arquivo Excel separado\n",
        "df_erros.to_excel('erros.xlsx', index=False)"
      ],
      "metadata": {
        "colab": {
          "base_uri": "https://localhost:8080/"
        },
        "id": "fTtQiCD6vA-k",
        "outputId": "43242f1b-a12f-4db3-b3c1-2427ff2469d1"
      },
      "execution_count": 18,
      "outputs": [
        {
          "output_type": "stream",
          "name": "stdout",
          "text": [
            "Os seguintes valores não são válidos: 4, 4, 5, 11, 11\n"
          ]
        }
      ]
    },
    {
      "cell_type": "code",
      "source": [
        "import pandas as pd\n",
        "import matplotlib.pyplot as plt"
      ],
      "metadata": {
        "id": "7OUn0DfiIena"
      },
      "execution_count": 12,
      "outputs": []
    },
    {
      "cell_type": "code",
      "source": [
        "coluna1 = df['Tp.Operacao']\n",
        "coluna2 = df['Qtd.Transp']\n",
        "plt.bar(coluna1, coluna2)\n",
        "\n",
        "plt.title(\"Vendas e Devoluções Efetuadas\")\n",
        "plt.xlabel(\"Tipo de Operação\")\n",
        "plt.ylabel(\"Quatiddade Transportada\")\n",
        "\n",
        "plt.show()"
      ],
      "metadata": {
        "id": "qV9Q-96DSxdH",
        "colab": {
          "base_uri": "https://localhost:8080/",
          "height": 472
        },
        "outputId": "ebe0218e-c2d5-4e40-9281-0aa726f13dbb"
      },
      "execution_count": 13,
      "outputs": [
        {
          "output_type": "display_data",
          "data": {
            "text/plain": [
              "<Figure size 640x480 with 1 Axes>"
            ],
            "image/png": "[encoded data removed]"
          },
          "metadata": {}
        }
      ]
    },
    {
      "cell_type": "code",
      "source": [
        "import matplotlib.pyplot as plt\n",
        "\n",
        "# Dados\n",
        "vendas = [100, 150, 200, 120, 90]\n",
        "devolucoes = [10, 20, 30, 40, 20]\n",
        "meses = ['Jan', 'Fev', 'Mar', 'Abr', 'Mai']\n",
        "\n",
        "# Criando o gráfico de barras empilhadas\n",
        "fig, ax = plt.subplots()\n",
        "ax.bar(meses, vendas, label='Vendas')\n",
        "ax.bar(meses, devolucoes, bottom=vendas, label='Devoluções')\n",
        "\n",
        "# Adicionando título e legendas\n",
        "ax.set_title('Vendas e Devoluções de Peças')\n",
        "ax.legend()\n",
        "\n",
        "# Exibindo o gráfico\n",
        "plt.show()"
      ],
      "metadata": {
        "id": "Cih0VlgKrM40"
      },
      "execution_count": null,
      "outputs": []
    },
    {
      "cell_type": "code",
      "source": [
        "import matplotlib.pyplot as plt\n",
        "\n",
        "rota_1 = [(10, 20), (30, 40), (50, 60)]\n",
        "rota_2 = [(15, 25), (35, 45), (55, 65)]\n",
        "rota_3 = [(20, 30), (40, 50), (60, 70)]\n",
        "\n",
        "plt.scatter(*zip(*rota_1), label='Rota 1')\n",
        "plt.scatter(*zip(*rota_2), label='Rota 2')\n",
        "plt.scatter(*zip(*rota_3), label='Rota 3')\n",
        "plt.xlabel('Longitude')\n",
        "plt.ylabel('Latitude')\n",
        "plt.title('Localização das Entregas por Rota')\n",
        "plt.legend()\n",
        "plt.show()"
      ],
      "metadata": {
        "id": "4NwRWulXsEq7"
      },
      "execution_count": null,
      "outputs": []
    },
    {
      "cell_type": "code",
      "source": [
        "import matplotlib.pyplot as plt\n",
        "\n",
        "rotas = ['Rota 1', 'Rota 2', 'Rota 3', 'Rota 4']\n",
        "entregas_semana_1 = [15, 25, 10, 30]\n",
        "entregas_semana_2 = [20, 30, 15, 35]\n",
        "\n",
        "plt.plot(rotas, entregas_semana_1, label='Semana 1')\n",
        "plt.plot(rotas, entregas_semana_2, label='Semana 2')\n",
        "plt.xlabel('Rotas')\n",
        "plt.ylabel('Quantidade de Entregas')\n",
        "plt.title('Evolução da Quantidade de Entregas por Rota')\n",
        "plt.legend()\n",
        "plt.show()"
      ],
      "metadata": {
        "id": "Tol7VF7ZsMQl"
      },
      "execution_count": null,
      "outputs": []
    },
    {
      "cell_type": "code",
      "source": [
        "import matplotlib.pyplot as plt\n",
        "\n",
        "rotas = ['Rota 1', 'Rota 2', 'Rota 3', 'Rota 4']\n",
        "entregas = [15, 25, 10, 30]\n",
        "\n",
        "plt.pie(entregas, labels=rotas, autopct='%1.1f%%')\n",
        "plt.title('Proporção de Entregas por Rota')\n",
        "plt.show()"
      ],
      "metadata": {
        "id": "TFNBfofXsTIz"
      },
      "execution_count": null,
      "outputs": []
    }
  ],
  "metadata": {
    "colab": {
      "provenance": [],
      "include_colab_link": true
    },
    "kernelspec": {
      "display_name": "Python 3",
      "name": "python3"
    }
  },
  "nbformat": 4,
  "nbformat_minor": 0
}