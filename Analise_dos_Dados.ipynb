{
  "cells": [
    {
      "cell_type": "markdown",
      "metadata": {
        "id": "view-in-github",
        "colab_type": "text"
      },
      "source": [
        "<a href=\"https://colab.research.google.com/github/Brudeoli17/Projeto-Marcus/blob/main/Analise_dos_Dados.ipynb\" target=\"_parent\"><img src=\"https://colab.research.google.com/assets/colab-badge.svg\" alt=\"Open In Colab\"/></a>"
      ]
    },
    {
      "cell_type": "markdown",
      "source": [],
      "metadata": {
        "id": "OeeASVKilsK1"
      }
    },
    {
      "cell_type": "code",
      "source": [
        "import pandas as pd\n",
        "import numpy as np \n"
      ],
      "metadata": {
        "id": "W0l-Qm0HUwlF"
      },
      "execution_count": null,
      "outputs": []
    },
    {
      "cell_type": "code",
      "source": [
        "from google.colab import drive"
      ],
      "metadata": {
        "id": "JVUleQxKXOEo"
      },
      "execution_count": null,
      "outputs": []
    },
    {
      "cell_type": "code",
      "source": [
        "drive.mount('/content/drive')\n",
        "df = pd.read_csv('/content/drive/MyDrive/Data/Rotas.csv', low_memory=False, sep=';', encoding='UTF-8')"
      ],
      "metadata": {
        "colab": {
          "base_uri": "https://localhost:8080/"
        },
        "id": "t1fLCHY0YbGR",
        "outputId": "f7b2d97d-db85-4ce1-fba9-ea1def8cc877"
      },
      "execution_count": null,
      "outputs": [
        {
          "output_type": "stream",
          "name": "stdout",
          "text": [
            "Drive already mounted at /content/drive; to attempt to forcibly remount, call drive.mount(\"/content/drive\", force_remount=True).\n"
          ]
        }
      ]
    },
    {
      "cell_type": "code",
      "source": [
        "df.head(5)"
      ],
      "metadata": {
        "id": "g9y-4hzBbdYQ"
      },
      "execution_count": null,
      "outputs": []
    },
    {
      "cell_type": "code",
      "source": [
        "df.groupby(\"Ano.Exec\").size()"
      ],
      "metadata": {
        "id": "ot0veeMQhYOi",
        "colab": {
          "base_uri": "https://localhost:8080/"
        },
        "outputId": "100c5873-9d4c-44bc-8cb2-cc3910794e92"
      },
      "execution_count": null,
      "outputs": [
        {
          "output_type": "execute_result",
          "data": {
            "text/plain": [
              "Ano.Exec\n",
              "19           2\n",
              "20           1\n",
              "2019         7\n",
              "2020         9\n",
              "2021    119973\n",
              "21           2\n",
              "????         2\n",
              "dtype: int64"
            ]
          },
          "metadata": {},
          "execution_count": 149
        }
      ]
    },
    {
      "cell_type": "code",
      "source": [
        "df.groupby(\"Mes.Base\").size()\n"
      ],
      "metadata": {
        "id": "7-5WbpwOhg3O",
        "outputId": "27d6123d-7041-4f9b-c251-dcf0d7fc588f",
        "colab": {
          "base_uri": "https://localhost:8080/"
        }
      },
      "execution_count": null,
      "outputs": [
        {
          "output_type": "execute_result",
          "data": {
            "text/plain": [
              "Mes.Base\n",
              "11         2\n",
              "4          2\n",
              "5          1\n",
              "Abr     9022\n",
              "Ago    10295\n",
              "Dez     3905\n",
              "Fev     9205\n",
              "Jan    10494\n",
              "Jul     9064\n",
              "Jun     9688\n",
              "Mai     9937\n",
              "Mar    10125\n",
              "Nov    12899\n",
              "Out    13260\n",
              "Set    12101\n",
              "dtype: int64"
            ]
          },
          "metadata": {},
          "execution_count": 142
        }
      ]
    },
    {
      "cell_type": "code",
      "source": [
        "df.groupby(\"CO.Fabrica\").size()\n"
      ],
      "metadata": {
        "colab": {
          "base_uri": "https://localhost:8080/"
        },
        "id": "tyWe1_Ny2yuk",
        "outputId": "490dc999-2b46-4cc0-bbf7-1ab9fb44adb6"
      },
      "execution_count": null,
      "outputs": [
        {
          "output_type": "execute_result",
          "data": {
            "text/plain": [
              "CO.Fabrica\n",
              "3403208    39786\n",
              "3423909    39828\n",
              "3424402    40373\n",
              "????           4\n",
              "dtype: int64"
            ]
          },
          "metadata": {},
          "execution_count": 148
        }
      ]
    },
    {
      "cell_type": "markdown",
      "source": [],
      "metadata": {
        "id": "P47-T1Sb8kt3"
      }
    },
    {
      "cell_type": "code",
      "source": [
        "df.groupby(\"CO.Cliente\").size()\n"
      ],
      "metadata": {
        "id": "WoIYOI0V3F6N"
      },
      "execution_count": null,
      "outputs": []
    },
    {
      "cell_type": "code",
      "source": [
        "#Inconsistencias_na_moeda\n",
        "df.groupby(\"Moeda\").size()"
      ],
      "metadata": {
        "colab": {
          "base_uri": "https://localhost:8080/"
        },
        "id": "guGRR-q0BJUo",
        "outputId": "e0af36c0-ee03-4025-e470-e560c927a50d"
      },
      "execution_count": null,
      "outputs": [
        {
          "output_type": "execute_result",
          "data": {
            "text/plain": [
              "Moeda\n",
              "???         3\n",
              "BR          2\n",
              "BRL    119992\n",
              "dtype: int64"
            ]
          },
          "metadata": {},
          "execution_count": 120
        }
      ]
    },
    {
      "cell_type": "code",
      "source": [
        "\n",
        "df.query('`CO.Fabrica` == \"2303\"').groupby('Qtd.Transp').size()\n"
      ],
      "metadata": {
        "colab": {
          "base_uri": "https://localhost:8080/"
        },
        "id": "JQ7N1GFYblAY",
        "outputId": "c910ae69-8180-447e-9d12-e06b09fee491"
      },
      "execution_count": null,
      "outputs": [
        {
          "output_type": "execute_result",
          "data": {
            "text/plain": [
              "Series([], dtype: int64)"
            ]
          },
          "metadata": {},
          "execution_count": 139
        }
      ]
    },
    {
      "cell_type": "code",
      "source": [
        "#Analise_das_datas_de_faturamento_e_entrega\n",
        "df['Result'] = df ['Dt.Fat'] .sub (df ['Dt.Entrega'])\n",
        "print(df[['Dt.Fat', 'Dt.Entrega', 'Result']])\n"
      ],
      "metadata": {
        "colab": {
          "base_uri": "https://localhost:8080/"
        },
        "id": "BP6ixET41M-O",
        "outputId": "40f40500-787c-468e-c37e-568f392a39f8"
      },
      "execution_count": null,
      "outputs": [
        {
          "output_type": "stream",
          "name": "stdout",
          "text": [
            "        Dt.Fat  Dt.Entrega  Result\n",
            "0        44200       44209      -9\n",
            "1        44210       44218      -8\n",
            "2        44211       44210       1\n",
            "3        44211       44216      -5\n",
            "4        44212       44219      -7\n",
            "...        ...         ...     ...\n",
            "119995   44537       44540      -3\n",
            "119996   44537       44542      -5\n",
            "119997   44536       44546     -10\n",
            "119998   44545       44545       0\n",
            "119999   44544       44546      -2\n",
            "\n",
            "[120000 rows x 3 columns]\n"
          ]
        }
      ]
    }
  ],
  "metadata": {
    "colab": {
      "provenance": [],
      "include_colab_link": true
    },
    "kernelspec": {
      "display_name": "Python 3",
      "name": "python3"
    }
  },
  "nbformat": 4,
  "nbformat_minor": 0
}